{
 "cells": [
  {
   "cell_type": "markdown",
   "metadata": {},
   "source": [
    "# make Custom dataset"
   ]
  },
  {
   "cell_type": "code",
   "execution_count": 1,
   "metadata": {},
   "outputs": [],
   "source": [
    "import numpy as np\n",
    "import os\n",
    "from scipy.misc import imread, imresize\n",
    "import matplotlib.pyplot as plt\n",
    "%matplotlib inline\n",
    "cwd = os.getcwd()"
   ]
  },
  {
   "cell_type": "code",
   "execution_count": 5,
   "metadata": {},
   "outputs": [],
   "source": [
    "paths =['data/image_basic']\n",
    "\n",
    "categories = ['a']\n",
    "\n",
    "imgsize = [64, 64]\n",
    "use_gray = 0\n",
    "data_name = 'custom_data'\n"
   ]
  },
  {
   "cell_type": "markdown",
   "metadata": {},
   "source": [
    "# rgb2gray function"
   ]
  },
  {
   "cell_type": "code",
   "execution_count": 4,
   "metadata": {},
   "outputs": [],
   "source": [
    "def rgb2gray(rgb):\n",
    "    if len(rgb.shape) == 3:\n",
    "        return np.dot(rgb,[0.299,0.587,0.114])\n",
    "    else:\n",
    "        return rgb"
   ]
  },
  {
   "cell_type": "markdown",
   "metadata": {},
   "source": [
    "# Load images"
   ]
  },
  {
   "cell_type": "code",
   "execution_count": 19,
   "metadata": {},
   "outputs": [
    {
     "name": "stdout",
     "output_type": "stream",
     "text": [
      "12288\n",
      "12288\n",
      "12288\n"
     ]
    },
    {
     "name": "stderr",
     "output_type": "stream",
     "text": [
      "c:\\users\\jmson\\appdata\\local\\programs\\python\\python36\\lib\\site-packages\\ipykernel_launcher.py:12: DeprecationWarning: `imread` is deprecated!\n",
      "`imread` is deprecated in SciPy 1.0.0, and will be removed in 1.2.0.\n",
      "Use ``imageio.imread`` instead.\n",
      "  if sys.path[0] == '':\n",
      "c:\\users\\jmson\\appdata\\local\\programs\\python\\python36\\lib\\site-packages\\ipykernel_launcher.py:23: DeprecationWarning: `imresize` is deprecated!\n",
      "`imresize` is deprecated in SciPy 1.0.0, and will be removed in 1.2.0.\n",
      "Use ``skimage.transform.resize`` instead.\n"
     ]
    }
   ],
   "source": [
    "nclass = len(paths)\n",
    "valid_exts = ['.jpg', '.gif', '.png', '.tga', '.jpeg']\n",
    "imgcnt = 0\n",
    "\n",
    "for i, relpath in zip(range(nclass),paths):\n",
    "    path = cwd +\"/\"+relpath\n",
    "    flist = os.listdir(path)\n",
    "    for f in flist:\n",
    "        if os.path.splitext(f)[1].lower() not in valid_exts:\n",
    "            continue\n",
    "        fullpath = os.path.join(path, f)\n",
    "        currimg = imread(fullpath)\n",
    "        \n",
    "        if currimg.shape[2] == 4: # rgby\n",
    "            currimg = currimg[:,:,0:3]\n",
    "        \n",
    "        if use_gray:\n",
    "            grayimg = rgb2gray(currimg)\n",
    "        else:\n",
    "            grayimg = currimg\n",
    "        \n",
    "        #Resize\n",
    "        graysmall = imresize(grayimg, [imgsize[0], imgsize[1]])/255.\n",
    "        grayvec = np.reshape(graysmall, (1,-1))\n",
    "        print(grayvec.shape[1])\n",
    "        # Save\n",
    "        curr_label = np.eye(nclass, nclass)[i:i+1,:]\n",
    "        \n",
    "        if imgcnt:\n",
    "            totalimg = np.concatenate((totalimg, grayvec), axis = 0)\n",
    "            totallabel = np.concatenate((totallabel, curr_label), axis = 0)\n",
    "        else:\n",
    "            totalimg = grayvec\n",
    "            totallabel = curr_label\n",
    "        imgcnt = imgcnt + 1"
   ]
  },
  {
   "cell_type": "markdown",
   "metadata": {},
   "source": [
    "# Divide into Training and Test set"
   ]
  },
  {
   "cell_type": "code",
   "execution_count": 21,
   "metadata": {},
   "outputs": [
    {
     "data": {
      "text/plain": [
       "(3, 12288)"
      ]
     },
     "execution_count": 21,
     "metadata": {},
     "output_type": "execute_result"
    }
   ],
   "source": [
    "totalimg.shape"
   ]
  }
 ],
 "metadata": {
  "kernelspec": {
   "display_name": "Python 3",
   "language": "python",
   "name": "python3"
  },
  "language_info": {
   "codemirror_mode": {
    "name": "ipython",
    "version": 3
   },
   "file_extension": ".py",
   "mimetype": "text/x-python",
   "name": "python",
   "nbconvert_exporter": "python",
   "pygments_lexer": "ipython3",
   "version": "3.6.8"
  }
 },
 "nbformat": 4,
 "nbformat_minor": 2
}

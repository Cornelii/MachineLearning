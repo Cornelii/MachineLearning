{
 "cells": [
  {
   "cell_type": "code",
   "execution_count": 1,
   "metadata": {},
   "outputs": [],
   "source": [
    "import tensorflow as tf\n",
    "import numpy as np\n",
    "import matplotlib.pyplot as plt\n",
    "%matplotlib inline\n",
    "from tensorflow.examples.tutorials.mnist import input_data"
   ]
  },
  {
   "cell_type": "markdown",
   "metadata": {},
   "source": [
    "## I. Load MNIST"
   ]
  },
  {
   "cell_type": "code",
   "execution_count": 2,
   "metadata": {},
   "outputs": [
    {
     "name": "stdout",
     "output_type": "stream",
     "text": [
      "WARNING:tensorflow:From <ipython-input-2-368e815241e7>:1: read_data_sets (from tensorflow.contrib.learn.python.learn.datasets.mnist) is deprecated and will be removed in a future version.\n",
      "Instructions for updating:\n",
      "Please use alternatives such as official/mnist/dataset.py from tensorflow/models.\n",
      "WARNING:tensorflow:From c:\\users\\jmson\\appdata\\local\\programs\\python\\python36\\lib\\site-packages\\tensorflow\\contrib\\learn\\python\\learn\\datasets\\mnist.py:260: maybe_download (from tensorflow.contrib.learn.python.learn.datasets.base) is deprecated and will be removed in a future version.\n",
      "Instructions for updating:\n",
      "Please write your own downloading logic.\n",
      "WARNING:tensorflow:From c:\\users\\jmson\\appdata\\local\\programs\\python\\python36\\lib\\site-packages\\tensorflow\\contrib\\learn\\python\\learn\\datasets\\mnist.py:262: extract_images (from tensorflow.contrib.learn.python.learn.datasets.mnist) is deprecated and will be removed in a future version.\n",
      "Instructions for updating:\n",
      "Please use tf.data to implement this functionality.\n",
      "Extracting data/train-images-idx3-ubyte.gz\n",
      "WARNING:tensorflow:From c:\\users\\jmson\\appdata\\local\\programs\\python\\python36\\lib\\site-packages\\tensorflow\\contrib\\learn\\python\\learn\\datasets\\mnist.py:267: extract_labels (from tensorflow.contrib.learn.python.learn.datasets.mnist) is deprecated and will be removed in a future version.\n",
      "Instructions for updating:\n",
      "Please use tf.data to implement this functionality.\n",
      "Extracting data/train-labels-idx1-ubyte.gz\n",
      "WARNING:tensorflow:From c:\\users\\jmson\\appdata\\local\\programs\\python\\python36\\lib\\site-packages\\tensorflow\\contrib\\learn\\python\\learn\\datasets\\mnist.py:110: dense_to_one_hot (from tensorflow.contrib.learn.python.learn.datasets.mnist) is deprecated and will be removed in a future version.\n",
      "Instructions for updating:\n",
      "Please use tf.one_hot on tensors.\n",
      "Extracting data/t10k-images-idx3-ubyte.gz\n",
      "Extracting data/t10k-labels-idx1-ubyte.gz\n",
      "WARNING:tensorflow:From c:\\users\\jmson\\appdata\\local\\programs\\python\\python36\\lib\\site-packages\\tensorflow\\contrib\\learn\\python\\learn\\datasets\\mnist.py:290: DataSet.__init__ (from tensorflow.contrib.learn.python.learn.datasets.mnist) is deprecated and will be removed in a future version.\n",
      "Instructions for updating:\n",
      "Please use alternatives such as official/mnist/dataset.py from tensorflow/models.\n",
      "MNIST data is ready\n"
     ]
    }
   ],
   "source": [
    "mnist = input_data.read_data_sets('data/', one_hot=True)\n",
    "train_img = mnist.train.images\n",
    "train_label = mnist.train.labels\n",
    "\n",
    "test_img = mnist.test.images\n",
    "test_label = mnist.test.labels\n",
    "\n",
    "print(\"MNIST data is ready\")"
   ]
  },
  {
   "cell_type": "markdown",
   "metadata": {},
   "source": [
    "## Define Model"
   ]
  },
  {
   "cell_type": "code",
   "execution_count": 4,
   "metadata": {},
   "outputs": [
    {
     "name": "stdout",
     "output_type": "stream",
     "text": [
      "Network parameters are ready\n"
     ]
    }
   ],
   "source": [
    "n_input = 784\n",
    "n_channel = 64\n",
    "n_classes = 10\n",
    "\n",
    "# placeholder for input and ouputs\n",
    "X = tf.placeholder(tf.float32, [None, n_input])\n",
    "Y = tf.placeholder(tf.float32, [None, n_classes])\n",
    "\n",
    "# Network Parameters\n",
    "stddev = 0.1\n",
    "\n",
    "weights = {\n",
    "    'c1':tf.Variable(tf.random_normal([3,3,1,n_channel], stddev=stddev)),\n",
    "    'c2':tf.Variable(tf.random_normal([3,3,n_channel,128], stddev=stddev)),\n",
    "    'd1':tf.Variable(tf.random_normal([7*7*128,n_classes], stddev=stddev)),\n",
    "}\n",
    "\n",
    "biases = {\n",
    "    'c1':tf.Variable(tf.random_normal([n_channel],stddev=stddev)),\n",
    "    'c2':tf.Variable(tf.random_normal([128],stddev=stddev)),\n",
    "    'd1':tf.Variable(tf.random_normal([n_classes],stddev=stddev)),    \n",
    "}\n",
    "\n",
    "print(\"Network parameters are ready\")"
   ]
  },
  {
   "cell_type": "markdown",
   "metadata": {},
   "source": [
    "## Define Graph"
   ]
  },
  {
   "cell_type": "code",
   "execution_count": null,
   "metadata": {},
   "outputs": [],
   "source": [
    "def CNN(_x, _w, _b):\n",
    "    _x_r = tf.reshape(_x, shape=[-1,28,28,1])\n",
    "    \n",
    "    _conv1 = tf.nn.conv2d(_x_r, _w['c1'], strides = [1,1,1,1], padding='SAME')\n",
    "    _conv1 = tf.nn.bias_add(_conv1, _b['c1'])\n",
    "    _conv1 = tf.nn.relu(_conv1)\n",
    "    _pool1 = tf.nn.max_pool(_conv1, ksize=[1,2,2,1], strides =[1,2,2,1], padding='SAME')\n",
    "    \n",
    "    _conv2 = tf.nn.conv2d(_pool1, _w['c2'], strides = [1,1,1,1], padding='SAME')\n",
    "    _conv2 = tf.nn.bias_add(_conv2, _b['c2'])\n",
    "    _conv2 = tf.nn.relu(_conv2)\n",
    "    _pool2 = tf.nn.max_pool(_conv2, ksize=[1,2,2,1], strides =[1,2,2,1], padding='SAME')\n",
    "    \n",
    "    _dense = tf.reshape(_pool2, _w['d1'].get_shape().as_list()[0])\n",
    "    \n",
    "    _logit = tf.add(tf.matmul(_dense, _w['d1']), _b['d1'])\n",
    "    \n",
    "    "
   ]
  },
  {
   "cell_type": "code",
   "execution_count": null,
   "metadata": {},
   "outputs": [],
   "source": []
  },
  {
   "cell_type": "code",
   "execution_count": null,
   "metadata": {},
   "outputs": [],
   "source": []
  },
  {
   "cell_type": "code",
   "execution_count": null,
   "metadata": {},
   "outputs": [],
   "source": []
  },
  {
   "cell_type": "code",
   "execution_count": null,
   "metadata": {},
   "outputs": [],
   "source": []
  }
 ],
 "metadata": {
  "kernelspec": {
   "display_name": "Python 3",
   "language": "python",
   "name": "python3"
  },
  "language_info": {
   "codemirror_mode": {
    "name": "ipython",
    "version": 3
   },
   "file_extension": ".py",
   "mimetype": "text/x-python",
   "name": "python",
   "nbconvert_exporter": "python",
   "pygments_lexer": "ipython3",
   "version": "3.6.8"
  }
 },
 "nbformat": 4,
 "nbformat_minor": 2
}

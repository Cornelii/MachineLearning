{
 "cells": [
  {
   "cell_type": "code",
   "execution_count": 1,
   "metadata": {},
   "outputs": [],
   "source": [
    "import numpy as np\n",
    "import tensorflow as tf\n",
    "from tensorflow.examples.tutorials.mnist import input_data"
   ]
  },
  {
   "cell_type": "code",
   "execution_count": 2,
   "metadata": {},
   "outputs": [
    {
     "name": "stdout",
     "output_type": "stream",
     "text": [
      "WARNING:tensorflow:From <ipython-input-2-410b479fd05e>:1: read_data_sets (from tensorflow.contrib.learn.python.learn.datasets.mnist) is deprecated and will be removed in a future version.\n",
      "Instructions for updating:\n",
      "Please use alternatives such as official/mnist/dataset.py from tensorflow/models.\n",
      "WARNING:tensorflow:From c:\\users\\jmson\\appdata\\local\\programs\\python\\python36\\lib\\site-packages\\tensorflow\\contrib\\learn\\python\\learn\\datasets\\mnist.py:260: maybe_download (from tensorflow.contrib.learn.python.learn.datasets.base) is deprecated and will be removed in a future version.\n",
      "Instructions for updating:\n",
      "Please write your own downloading logic.\n",
      "WARNING:tensorflow:From c:\\users\\jmson\\appdata\\local\\programs\\python\\python36\\lib\\site-packages\\tensorflow\\contrib\\learn\\python\\learn\\datasets\\mnist.py:262: extract_images (from tensorflow.contrib.learn.python.learn.datasets.mnist) is deprecated and will be removed in a future version.\n",
      "Instructions for updating:\n",
      "Please use tf.data to implement this functionality.\n",
      "Extracting data/train-images-idx3-ubyte.gz\n",
      "WARNING:tensorflow:From c:\\users\\jmson\\appdata\\local\\programs\\python\\python36\\lib\\site-packages\\tensorflow\\contrib\\learn\\python\\learn\\datasets\\mnist.py:267: extract_labels (from tensorflow.contrib.learn.python.learn.datasets.mnist) is deprecated and will be removed in a future version.\n",
      "Instructions for updating:\n",
      "Please use tf.data to implement this functionality.\n",
      "Extracting data/train-labels-idx1-ubyte.gz\n",
      "WARNING:tensorflow:From c:\\users\\jmson\\appdata\\local\\programs\\python\\python36\\lib\\site-packages\\tensorflow\\contrib\\learn\\python\\learn\\datasets\\mnist.py:110: dense_to_one_hot (from tensorflow.contrib.learn.python.learn.datasets.mnist) is deprecated and will be removed in a future version.\n",
      "Instructions for updating:\n",
      "Please use tf.one_hot on tensors.\n",
      "Extracting data/t10k-images-idx3-ubyte.gz\n",
      "Extracting data/t10k-labels-idx1-ubyte.gz\n",
      "WARNING:tensorflow:From c:\\users\\jmson\\appdata\\local\\programs\\python\\python36\\lib\\site-packages\\tensorflow\\contrib\\learn\\python\\learn\\datasets\\mnist.py:290: DataSet.__init__ (from tensorflow.contrib.learn.python.learn.datasets.mnist) is deprecated and will be removed in a future version.\n",
      "Instructions for updating:\n",
      "Please use alternatives such as official/mnist/dataset.py from tensorflow/models.\n"
     ]
    }
   ],
   "source": [
    "mnist = input_data.read_data_sets('data/', one_hot=True)"
   ]
  },
  {
   "cell_type": "code",
   "execution_count": 3,
   "metadata": {},
   "outputs": [],
   "source": [
    "n_hidden_1 = 256\n",
    "n_hidden_2 = 128\n",
    "n_input = 784\n",
    "n_classes = 10\n",
    "\n",
    "# placeholder input and output\n",
    "\n",
    "x = tf.placeholder('float', [None,n_input])\n",
    "y = tf.placeholder('float', [None,n_classes])\n",
    "\n",
    "# model\n",
    "stddev = 0.1\n",
    "weights ={\n",
    "    'h1':tf.Variable(tf.random_normal([n_input,n_hidden_1],stddev=stddev)),\n",
    "    'h2':tf.Variable(tf.random_normal([n_hidden_1,n_hidden_2],stddev=stddev)),\n",
    "    'out':tf.Variable(tf.random_normal([n_hidden_2,n_classes], stddev=stddev))\n",
    "}\n",
    "biases = {\n",
    "    'b1':tf.Variable(tf.random_normal([n_hidden_1])),\n",
    "    'b2':tf.Variable(tf.random_normal([n_hidden_2])),\n",
    "    'out':tf.Variable(tf.random_normal([n_classes]))\n",
    "}\n"
   ]
  },
  {
   "cell_type": "markdown",
   "metadata": {},
   "source": [
    "# Model\n"
   ]
  },
  {
   "cell_type": "code",
   "execution_count": 6,
   "metadata": {},
   "outputs": [],
   "source": [
    "def multilayer_perceptron(_X, _weights, _biases):\n",
    "    layer_1 = tf.nn.sigmoid(tf.add(tf.matmul(_X,_weights['h1']), _biases['b1']))\n",
    "    layer_2 = tf.nn.sigmoid(tf.add(tf.matmul(layer_1,_weights['h2']), _biases['b2']))\n",
    "    \n",
    "    return tf.matmul(layer_2,_weights['out'])+ _biases['out']\n",
    "    \n",
    "pred = multilayer_perceptron(x, weights, biases)\n",
    "\n",
    "cost = tf.reduce_mean(tf.nn.softmax_cross_entropy_with_logits(labels=y,logits=pred))\n",
    "optm = tf.train.AdamOptimizer(learning_rate=0.001).minimize(cost)\n",
    "\n",
    "corr = tf.equal(tf.argmax(pred, 1),tf.argmax(y, 1))\n",
    "accr = tf.reduce_mean(tf.cast(corr, 'float'))\n",
    "\n",
    "init = tf.global_variables_initializer()"
   ]
  },
  {
   "cell_type": "code",
   "execution_count": 8,
   "metadata": {},
   "outputs": [
    {
     "name": "stdout",
     "output_type": "stream",
     "text": [
      "Epoch: 3/20 cost: 0.11655167930844156\n",
      "TRAIN ACCURACY: 0.9599999785423279\n",
      "TEST ACCURACY: 0.9657999873161316\n",
      "Epoch: 7/20 cost: 0.045615308816460046\n",
      "TRAIN ACCURACY: 0.9800000190734863\n",
      "TEST ACCURACY: 0.9768000245094299\n",
      "Epoch: 11/20 cost: 0.01768660067813471\n",
      "TRAIN ACCURACY: 0.9900000095367432\n",
      "TEST ACCURACY: 0.9789000153541565\n",
      "Epoch: 15/20 cost: 0.006789185391019353\n",
      "TRAIN ACCURACY: 1.0\n",
      "TEST ACCURACY: 0.98089998960495\n",
      "Epoch: 19/20 cost: 0.0027234457174728794\n",
      "TRAIN ACCURACY: 1.0\n",
      "TEST ACCURACY: 0.9790999889373779\n",
      "OPTIMIZATION FINISHED\n"
     ]
    }
   ],
   "source": [
    "training_epochs = 20\n",
    "batch_size = 100\n",
    "display_step = 4\n",
    "\n",
    "\n",
    "with tf.Session() as sess:\n",
    "    sess.run(init)\n",
    "\n",
    "    for epoch in range(training_epochs):\n",
    "        avg_cost = 0.\n",
    "        total_batch = int(mnist.train.num_examples/batch_size)\n",
    "        \n",
    "        for i in range(total_batch):\n",
    "            batch_xs, batch_ys = mnist.train.next_batch(batch_size)\n",
    "            feeds = {x:batch_xs, y:batch_ys}\n",
    "            sess.run(optm, feed_dict=feeds)\n",
    "            avg_cost +=  sess.run(cost,feed_dict=feeds)\n",
    "            \n",
    "        avg_cost = avg_cost / total_batch\n",
    "        \n",
    "        if (epoch+1) % display_step == 0:\n",
    "            print(f\"Epoch: {epoch}/{training_epochs} cost: {avg_cost}\")\n",
    "            feeds = {x:batch_xs, y:batch_ys}\n",
    "            train_acc = sess.run(accr, feed_dict=feeds)\n",
    "            \n",
    "            print(f\"TRAIN ACCURACY: {train_acc}\")\n",
    "            feeds = {x:mnist.test.images, y:mnist.test.labels}\n",
    "            test_acc =sess.run(accr, feed_dict=feeds)\n",
    "            print(f\"TEST ACCURACY: {test_acc}\")\n",
    "    print(\"OPTIMIZATION FINISHED\")\n",
    "            \n",
    "        "
   ]
  },
  {
   "cell_type": "code",
   "execution_count": null,
   "metadata": {},
   "outputs": [],
   "source": []
  },
  {
   "cell_type": "code",
   "execution_count": null,
   "metadata": {},
   "outputs": [],
   "source": []
  },
  {
   "cell_type": "code",
   "execution_count": null,
   "metadata": {},
   "outputs": [],
   "source": []
  }
 ],
 "metadata": {
  "kernelspec": {
   "display_name": "Python 3",
   "language": "python",
   "name": "python3"
  },
  "language_info": {
   "codemirror_mode": {
    "name": "ipython",
    "version": 3
   },
   "file_extension": ".py",
   "mimetype": "text/x-python",
   "name": "python",
   "nbconvert_exporter": "python",
   "pygments_lexer": "ipython3",
   "version": "3.6.8"
  }
 },
 "nbformat": 4,
 "nbformat_minor": 2
}

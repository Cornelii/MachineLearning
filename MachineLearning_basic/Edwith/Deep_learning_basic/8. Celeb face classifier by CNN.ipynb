{
 "cells": [
  {
   "cell_type": "code",
   "execution_count": 4,
   "metadata": {},
   "outputs": [],
   "source": [
    "import tensorflow as tf\n",
    "import numpy as np\n",
    "import matplotlib.pyplot as plt\n",
    "\n",
    "%matplotlib inline\n"
   ]
  },
  {
   "cell_type": "markdown",
   "metadata": {},
   "source": [
    "## Load data"
   ]
  },
  {
   "cell_type": "code",
   "execution_count": null,
   "metadata": {},
   "outputs": [],
   "source": []
  },
  {
   "cell_type": "code",
   "execution_count": null,
   "metadata": {},
   "outputs": [],
   "source": []
  },
  {
   "cell_type": "code",
   "execution_count": null,
   "metadata": {},
   "outputs": [],
   "source": []
  },
  {
   "cell_type": "code",
   "execution_count": null,
   "metadata": {},
   "outputs": [],
   "source": []
  },
  {
   "cell_type": "markdown",
   "metadata": {},
   "source": [
    "## Model"
   ]
  },
  {
   "cell_type": "code",
   "execution_count": 3,
   "metadata": {},
   "outputs": [],
   "source": [
    "class SimpleCNN:\n",
    "    def __init__(self, learning_rate = 0.0001):\n",
    "        self.X = tf.placeholder(tf.float32, shape=[None,])\n",
    "        self.learning_rate = learning_rate\n",
    "        self.probe= {}\n",
    "    \n",
    "    def layers(self, X):\n",
    "        #128 x 128 x 3\n",
    "        layer1 = tf.keras.layers.Conv2D(X, 16, padding=\"SAME\") # 128 x 128 x 16\n",
    "        pool1 = tf.keras.layers.MaxPooling2D(layer1, padding=\"SAME\") # 64 x 64 x 16\n",
    "        pool1 =tf.nn.relu(pool1)\n",
    "        \n",
    "        layer2 = tf.keras.layers.Conv2D(pool1, 32, padding=\"SAME\") # 64 x 64 x 32\n",
    "        pool2 = tf.keras.layers.MaxPooling2D(layer2, padding=\"SAME\") # 32 x 32 x 32\n",
    "        pool2 =tf.nn.relu(pool2)\n",
    "        \n",
    "        layer3 = tf.keras.layers.Conv2D(pool2, 64, padding=\"SAME\") # 32 x 32 x 64\n",
    "        pool3 = tf.keras.layers.MaxPooling2D(layer3, padding=\"SAME\") # 16 x 16 x 64\n",
    "        pool3 =tf.nn.relu(pool3)\n",
    "        \n",
    "        \n",
    "        layer4 = tf.keras.layers.Conv2D(pool3, 128, padding=\"SAME\") # 16 x 16 x 128\n",
    "        pool4 = tf.keras.layers.MaxPooling2D(layer1, padding=\"SAME\") # 8 x 8 x 128\n",
    "        pool4 =tf.nn.relu(pool4)\n",
    "        \n",
    "        self.probe = {'layer1': layer1, 'layer2': layer2, 'layer3': layer3, 'layer4':layer4}\n",
    "        \n",
    "        # Grad-Cam\n",
    "        grad_cam = tf.keras.layers.Conv2D(pool4, 3, 8, padding=\"SAME\") # 1 x 1 x 3\n",
    "        \n",
    "        return tf.reshape(grad_cam, [-1, 3]) \n",
    "        \n",
    "    def loss(self, X, Y):\n",
    "        return tf.nn.softmax_cross_entropy_with_logits_v2(labels=Y, logits=X)\n",
    "        \n",
    "    def train(self, sess, X, Y, num_batch, num_epoch, x_val, y_val):\n",
    "        optm = tf.train.AdamOptimizer(learning_rate= self.learning_rate, epsilon=1e-3).minimize(self.loss(X, Y))\n",
    "        \n",
    "        init = tf.global_variables_initializer()\n",
    "        sess.run(init)\n",
    "        \n",
    "        for epoch in range(num_epoch):\n",
    "            feed_dict = {X: , Y:}   \n",
    "            \n",
    "        \n",
    "        \n",
    "        \n",
    "        \n",
    "        \n",
    "        "
   ]
  },
  {
   "cell_type": "code",
   "execution_count": null,
   "metadata": {},
   "outputs": [],
   "source": []
  },
  {
   "cell_type": "code",
   "execution_count": null,
   "metadata": {},
   "outputs": [],
   "source": []
  },
  {
   "cell_type": "code",
   "execution_count": null,
   "metadata": {},
   "outputs": [],
   "source": []
  },
  {
   "cell_type": "code",
   "execution_count": null,
   "metadata": {},
   "outputs": [],
   "source": []
  },
  {
   "cell_type": "code",
   "execution_count": null,
   "metadata": {},
   "outputs": [],
   "source": []
  }
 ],
 "metadata": {
  "kernelspec": {
   "display_name": "Python 3",
   "language": "python",
   "name": "python3"
  },
  "language_info": {
   "codemirror_mode": {
    "name": "ipython",
    "version": 3
   },
   "file_extension": ".py",
   "mimetype": "text/x-python",
   "name": "python",
   "nbconvert_exporter": "python",
   "pygments_lexer": "ipython3",
   "version": "3.6.8"
  }
 },
 "nbformat": 4,
 "nbformat_minor": 2
}

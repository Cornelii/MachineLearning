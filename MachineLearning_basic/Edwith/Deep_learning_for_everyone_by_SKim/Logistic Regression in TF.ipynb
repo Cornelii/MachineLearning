{
 "cells": [
  {
   "cell_type": "code",
   "execution_count": 1,
   "metadata": {},
   "outputs": [],
   "source": [
    "import tensorflow as tf\n",
    "import numpy as np\n",
    "import matplotlib.pyplot as plt\n",
    "import sklearn\n",
    "from sklearn.datasets import load_breast_cancer\n",
    "import seaborn as sns\n",
    "\n",
    "\n",
    "# import tensorflow.contrib.eager as tfe\n",
    "# tfe.enable_eager_execution()"
   ]
  },
  {
   "cell_type": "code",
   "execution_count": 2,
   "metadata": {},
   "outputs": [
    {
     "name": "stdout",
     "output_type": "stream",
     "text": [
      "shape of data features: (569, 30)\n",
      "shape of data labels: (569, 1)\n"
     ]
    }
   ],
   "source": [
    "train_data = load_breast_cancer()\n",
    "x_train = train_data.data\n",
    "y_train = train_data.target\n",
    "y_train = np.reshape(y_train, [-1,1])\n",
    "print(\"shape of data features: {}\".format(x_train.shape))\n",
    "print(\"shape of data labels: {}\".format(y_train.shape))\n"
   ]
  },
  {
   "cell_type": "code",
   "execution_count": 3,
   "metadata": {},
   "outputs": [
    {
     "name": "stdout",
     "output_type": "stream",
     "text": [
      "WARNING:tensorflow:From c:\\program files\\python35\\lib\\site-packages\\tensorflow\\python\\framework\\op_def_library.py:263: colocate_with (from tensorflow.python.framework.ops) is deprecated and will be removed in a future version.\n",
      "Instructions for updating:\n",
      "Colocations handled automatically by placer.\n"
     ]
    }
   ],
   "source": [
    "# Model\n",
    "# tensorflow model using gradientTape with low API\n",
    "\n",
    "X = tf.placeholder(tf.float32, shape=[None,30])\n",
    "Y = tf.placeholder(tf.float32, shape=[None,1])\n",
    "\n",
    "w = tf.Variable(tf.random.normal([30,1],0,1))\n",
    "b = tf.Variable(tf.zeros([1]))"
   ]
  },
  {
   "cell_type": "code",
   "execution_count": 4,
   "metadata": {},
   "outputs": [],
   "source": [
    "linear_model = tf.matmul(X, w) + b"
   ]
  },
  {
   "cell_type": "code",
   "execution_count": null,
   "metadata": {},
   "outputs": [],
   "source": [
    "# Cost function"
   ]
  },
  {
   "cell_type": "code",
   "execution_count": null,
   "metadata": {},
   "outputs": [],
   "source": [
    "#cost = tf.reduce_mean(tf.nn.sigmoid_cross_entropy_with_logits(labels=Y, logits=linear_model))\n",
    "cost = tf.reduce_mean(tf.maximum(linear_model,0)-linear_model*Y + tf.log(1+tf.exp(-tf.abs(linear_model))))"
   ]
  },
  {
   "cell_type": "code",
   "execution_count": null,
   "metadata": {},
   "outputs": [],
   "source": [
    "# Hyper Parameters"
   ]
  },
  {
   "cell_type": "code",
   "execution_count": 35,
   "metadata": {},
   "outputs": [],
   "source": [
    "learning_rate = 0.0001\n",
    "iter_num = 1000"
   ]
  },
  {
   "cell_type": "code",
   "execution_count": null,
   "metadata": {},
   "outputs": [],
   "source": [
    "# training"
   ]
  },
  {
   "cell_type": "code",
   "execution_count": 29,
   "metadata": {},
   "outputs": [],
   "source": [
    "optm = tf.train.GradientDescentOptimizer(learning_rate=0.001).minimize(cost)\n",
    "predict = tf.cast(linear_model > 0, dtype=tf.float32)\n",
    "acc = tf.reduce_mean(tf.cast(tf.equal(predict, Y), dtype=tf.float32))"
   ]
  },
  {
   "cell_type": "code",
   "execution_count": 36,
   "metadata": {
    "scrolled": false
   },
   "outputs": [
    {
     "name": "stdout",
     "output_type": "stream",
     "text": [
      "# 1th iteration:\n",
      "cost : 457.72705078125, accuracy: 0.372583%\n",
      "\n",
      "# 101th iteration:\n",
      "cost : 118.6850814819336, accuracy: 0.372583%\n",
      "\n",
      "# 201th iteration:\n",
      "cost : 10.891600608825684, accuracy: 0.778559%\n",
      "\n",
      "# 301th iteration:\n",
      "cost : 9.92910099029541, accuracy: 0.776801%\n",
      "\n",
      "# 401th iteration:\n",
      "cost : 10.288771629333496, accuracy: 0.760984%\n",
      "\n",
      "# 501th iteration:\n",
      "cost : 9.073942184448242, accuracy: 0.782074%\n",
      "\n",
      "# 601th iteration:\n",
      "cost : 6.563882827758789, accuracy: 0.833040%\n",
      "\n",
      "# 701th iteration:\n",
      "cost : 3.8627238273620605, accuracy: 0.880492%\n",
      "\n",
      "# 801th iteration:\n",
      "cost : 4.094064712524414, accuracy: 0.896309%\n",
      "\n",
      "# 901th iteration:\n",
      "cost : 3.622981548309326, accuracy: 0.905097%\n",
      "\n",
      "iteraion has done!\n"
     ]
    }
   ],
   "source": [
    "init = tf.global_variables_initializer()\n",
    "with tf.Session() as sess:\n",
    "    sess.run(init)\n",
    "    cost_list = []\n",
    "    acc_list = []\n",
    "    for idx in range(iter_num):\n",
    "        sess.run(optm,feed_dict={X:x_train, Y:y_train})\n",
    "        \n",
    "        if idx%100:\n",
    "            pass\n",
    "        else:\n",
    "            tmp_cost, tmp_acc = sess.run([cost, acc], feed_dict={X:x_train, Y:y_train})\n",
    "            cost_list.append(tmp_cost)\n",
    "            acc_list.append(tmp_acc)\n",
    "            print(\"# {}th iteration:\".format(idx+1))\n",
    "            print(\"cost : {}, accuracy: {:2f}%\\n\".format(tmp_cost, tmp_acc))\n",
    "    print(\"iteraion has done!\")"
   ]
  },
  {
   "cell_type": "code",
   "execution_count": null,
   "metadata": {},
   "outputs": [],
   "source": []
  },
  {
   "cell_type": "code",
   "execution_count": null,
   "metadata": {},
   "outputs": [],
   "source": []
  }
 ],
 "metadata": {
  "kernelspec": {
   "display_name": "Python 3",
   "language": "python",
   "name": "python3"
  },
  "language_info": {
   "codemirror_mode": {
    "name": "ipython",
    "version": 3
   },
   "file_extension": ".py",
   "mimetype": "text/x-python",
   "name": "python",
   "nbconvert_exporter": "python",
   "pygments_lexer": "ipython3",
   "version": "3.5.3"
  }
 },
 "nbformat": 4,
 "nbformat_minor": 2
}

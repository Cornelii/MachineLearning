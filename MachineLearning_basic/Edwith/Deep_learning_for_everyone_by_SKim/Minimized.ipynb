{
 "cells": [
  {
   "cell_type": "code",
   "execution_count": 1,
   "metadata": {},
   "outputs": [],
   "source": [
    "import tensorflow as tf\n",
    "from tensorflow import keras\n",
    "from tensorflow.keras.utils import to_categorical\n",
    "import numpy as np\n",
    "import os\n",
    "import matplotlib.pyplot as plt\n",
    "\n",
    "tf.enable_eager_execution()\n",
    "\n",
    "learning_rate = 0.01\n",
    "training_epochs = 6\n",
    "batch_size = 10"
   ]
  },
  {
   "cell_type": "code",
   "execution_count": 2,
   "metadata": {},
   "outputs": [],
   "source": [
    "cur_dir = os.getcwd()\n",
    "model_dir_name = 'gan_eager_mode'\n",
    "checkpoint_dir = os.path.join(cur_dir, 'checkpoints', model_dir_name)\n",
    "os.makedirs(checkpoint_dir, exist_ok=True)\n",
    "\n",
    "checkpoint_prefix = os.path.join(checkpoint_dir, model_dir_name)"
   ]
  },
  {
   "cell_type": "code",
   "execution_count": 5,
   "metadata": {},
   "outputs": [
    {
     "name": "stdout",
     "output_type": "stream",
     "text": [
      "(60000, 28, 28) (60000,) (10000, 28, 28) (10000,)\n",
      "After preprocessing\n",
      "(60000, 28, 28, 1) (60000, 10) (60000, 1) (10000, 28, 28, 1) (10000, 10) (10000, 1)\n"
     ]
    }
   ],
   "source": [
    "mnist = keras.datasets.mnist\n",
    "\n",
    "(train_x, train_y), (test_x, test_y) = mnist.load_data()\n",
    "\n",
    "print(train_x.shape, train_y.shape, test_x.shape, test_y.shape)\n",
    "\n",
    "train_x = train_x.astype(np.float32) / 255\n",
    "test_x = test_x.astype(np.float32) / 255\n",
    "\n",
    "train_x = np.expand_dims(train_x, 3)\n",
    "test_x = np.expand_dims(test_x, 3)\n",
    "\n",
    "train_yc = to_categorical(train_y, 10)\n",
    "test_yc = to_categorical(test_y, 10)\n",
    "\n",
    "train_y = np.expand_dims(train_y,-1)\n",
    "test_y = np.expand_dims(test_y, -1)\n",
    "\n",
    "train_dataset = tf.data.Dataset.from_tensor_slices((train_x, train_yc, train_y)).shuffle(buffer_size=70000).batch(batch_size)\n",
    "test_dataset = tf.data.Dataset.from_tensor_slices((test_x, test_yc, test_y)).batch(batch_size)\n",
    "\n",
    "print('After preprocessing')\n",
    "print(train_x.shape, train_yc.shape, train_y.shape, test_x.shape, test_yc.shape, test_y.shape)"
   ]
  },
  {
   "cell_type": "code",
   "execution_count": null,
   "metadata": {},
   "outputs": [],
   "source": [
    "def G():\n",
    "    model = keras.Sequential()\n",
    "    model.add(keras.layers.Dense(49*3 , activation=None))\n",
    "    model.add(keras.layers.Dropout(0.3))\n",
    "    model.add(keras.layers.ReLU())\n",
    "    model.add(keras.layers.Reshape(7,7,-1))\n",
    "    \n",
    "    \n",
    "    \n",
    "    \n",
    "    "
   ]
  },
  {
   "cell_type": "code",
   "execution_count": null,
   "metadata": {},
   "outputs": [],
   "source": []
  },
  {
   "cell_type": "code",
   "execution_count": null,
   "metadata": {},
   "outputs": [],
   "source": []
  },
  {
   "cell_type": "code",
   "execution_count": null,
   "metadata": {},
   "outputs": [],
   "source": []
  }
 ],
 "metadata": {
  "kernelspec": {
   "display_name": "Python 3",
   "language": "python",
   "name": "python3"
  },
  "language_info": {
   "codemirror_mode": {
    "name": "ipython",
    "version": 3
   },
   "file_extension": ".py",
   "mimetype": "text/x-python",
   "name": "python",
   "nbconvert_exporter": "python",
   "pygments_lexer": "ipython3",
   "version": "3.5.3"
  }
 },
 "nbformat": 4,
 "nbformat_minor": 2
}

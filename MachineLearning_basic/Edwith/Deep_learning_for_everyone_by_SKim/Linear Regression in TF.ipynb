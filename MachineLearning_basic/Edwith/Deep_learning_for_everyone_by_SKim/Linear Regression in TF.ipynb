{
 "cells": [
  {
   "cell_type": "code",
   "execution_count": 1,
   "metadata": {},
   "outputs": [],
   "source": [
    "import tensorflow as tf\n",
    "import numpy as np\n",
    "import matplotlib.pyplot as plt"
   ]
  },
  {
   "cell_type": "code",
   "execution_count": 2,
   "metadata": {},
   "outputs": [],
   "source": [
    "x_train = np.reshape(np.array([4,7,8,9,1,6]), [-1,1])\n",
    "y_train = np.reshape(np.array([8,14,16,18,2,12]), [-1, 1])\n",
    "alpha = 0.01\n",
    "iter_num = 100"
   ]
  },
  {
   "cell_type": "code",
   "execution_count": 3,
   "metadata": {},
   "outputs": [],
   "source": [
    "X = tf.placeholder(tf.float32, shape=[None,1])\n",
    "Y = tf.placeholder(tf.float32, shape=[None,1])"
   ]
  },
  {
   "cell_type": "code",
   "execution_count": 4,
   "metadata": {},
   "outputs": [
    {
     "name": "stdout",
     "output_type": "stream",
     "text": [
      "WARNING:tensorflow:From c:\\program files\\python35\\lib\\site-packages\\tensorflow\\python\\framework\\op_def_library.py:263: colocate_with (from tensorflow.python.framework.ops) is deprecated and will be removed in a future version.\n",
      "Instructions for updating:\n",
      "Colocations handled automatically by placer.\n"
     ]
    }
   ],
   "source": [
    "W = tf.Variable(tf.random.normal([1],0,1))\n",
    "b = tf.Variable(0.0)\n",
    "\n",
    "model = W*X+b\n",
    "\n",
    "cost = tf.reduce_mean(tf.pow(Y-model, 2))\n",
    "\n",
    "optm = tf.train.GradientDescentOptimizer(learning_rate = alpha)\n",
    "\n",
    "train = optm.minimize(cost)"
   ]
  },
  {
   "cell_type": "code",
   "execution_count": 8,
   "metadata": {},
   "outputs": [
    {
     "name": "stdout",
     "output_type": "stream",
     "text": [
      "1th \n",
      " cost: 0.9273030757904053\n",
      "11th \n",
      " cost: 0.002743122400715947\n",
      "21th \n",
      " cost: 0.0025624807458370924\n",
      "31th \n",
      " cost: 0.0023937670048326254\n",
      "41th \n",
      " cost: 0.002236154628917575\n",
      "51th \n",
      " cost: 0.002088915789499879\n",
      "61th \n",
      " cost: 0.0019513695733621716\n",
      "71th \n",
      " cost: 0.0018229041015729308\n",
      "81th \n",
      " cost: 0.001702873152680695\n",
      "91th \n",
      " cost: 0.001590765081346035\n",
      "[1.9867841] 0.09288163\n"
     ]
    }
   ],
   "source": [
    "with tf.Session() as sess:\n",
    "    sess.run(tf.global_variables_initializer())\n",
    "    for idx in range(iter_num):\n",
    "        sess.run(train,feed_dict={X:x_train, Y:y_train})\n",
    "        \n",
    "        if (idx) % 10:\n",
    "            pass\n",
    "        else:\n",
    "            _cost = sess.run(cost, feed_dict={X:x_train, Y:y_train})\n",
    "            print(\"{}th \\n cost: {}\".format(idx+1, _cost))\n",
    "            \n",
    "    print(sess.run(W), sess.run(b))"
   ]
  },
  {
   "cell_type": "code",
   "execution_count": 6,
   "metadata": {},
   "outputs": [
    {
     "data": {
      "image/png": "[encoded data removed]",
      "text/plain": [
       "<Figure size 432x288 with 1 Axes>"
      ]
     },
     "metadata": {
      "needs_background": "light"
     },
     "output_type": "display_data"
    }
   ],
   "source": [
    "plt.scatter(x_train,y_train)\n",
    "a = np.linspace(0,9,20)\n",
    "plt.plot(a,a*1.96389+0.25381,'r')\n",
    "plt.show()"
   ]
  }
 ],
 "metadata": {
  "kernelspec": {
   "display_name": "Python 3",
   "language": "python",
   "name": "python3"
  },
  "language_info": {
   "codemirror_mode": {
    "name": "ipython",
    "version": 3
   },
   "file_extension": ".py",
   "mimetype": "text/x-python",
   "name": "python",
   "nbconvert_exporter": "python",
   "pygments_lexer": "ipython3",
   "version": "3.5.3"
  }
 },
 "nbformat": 4,
 "nbformat_minor": 2
}

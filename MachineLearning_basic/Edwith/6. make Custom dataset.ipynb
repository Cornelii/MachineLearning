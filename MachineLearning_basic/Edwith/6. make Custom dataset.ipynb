{
 "cells": [
  {
   "cell_type": "markdown",
   "metadata": {},
   "source": [
    "# make Custom dataset"
   ]
  },
  {
   "cell_type": "code",
   "execution_count": 1,
   "metadata": {},
   "outputs": [],
   "source": [
    "import numpy as np\n",
    "import os\n",
    "from scipy.misc import imread, imresize\n",
    "import matplotlib.pyplot as plt\n",
    "%matplotlib inline\n",
    "cwd = os.getcwd()"
   ]
  },
  {
   "cell_type": "code",
   "execution_count": 28,
   "metadata": {},
   "outputs": [],
   "source": [
    "paths =['data/image_basic']\n",
    "\n",
    "categories = ['amber_test']\n",
    "\n",
    "imgsize = [64, 64]\n",
    "use_gray = 0\n",
    "data_name = 'custom_data'\n"
   ]
  },
  {
   "cell_type": "markdown",
   "metadata": {},
   "source": [
    "# rgb2gray function"
   ]
  },
  {
   "cell_type": "code",
   "execution_count": 4,
   "metadata": {},
   "outputs": [],
   "source": [
    "def rgb2gray(rgb):\n",
    "    if len(rgb.shape) == 3:\n",
    "        return np.dot(rgb,[0.299,0.587,0.114])\n",
    "    else:\n",
    "        return rgb"
   ]
  },
  {
   "cell_type": "markdown",
   "metadata": {},
   "source": [
    "# Load images"
   ]
  },
  {
   "cell_type": "code",
   "execution_count": 19,
   "metadata": {},
   "outputs": [
    {
     "name": "stdout",
     "output_type": "stream",
     "text": [
      "12288\n",
      "12288\n",
      "12288\n"
     ]
    },
    {
     "name": "stderr",
     "output_type": "stream",
     "text": [
      "c:\\users\\jmson\\appdata\\local\\programs\\python\\python36\\lib\\site-packages\\ipykernel_launcher.py:12: DeprecationWarning: `imread` is deprecated!\n",
      "`imread` is deprecated in SciPy 1.0.0, and will be removed in 1.2.0.\n",
      "Use ``imageio.imread`` instead.\n",
      "  if sys.path[0] == '':\n",
      "c:\\users\\jmson\\appdata\\local\\programs\\python\\python36\\lib\\site-packages\\ipykernel_launcher.py:23: DeprecationWarning: `imresize` is deprecated!\n",
      "`imresize` is deprecated in SciPy 1.0.0, and will be removed in 1.2.0.\n",
      "Use ``skimage.transform.resize`` instead.\n"
     ]
    }
   ],
   "source": [
    "nclass = len(paths)\n",
    "valid_exts = ['.jpg', '.gif', '.png', '.tga', '.jpeg']\n",
    "imgcnt = 0\n",
    "\n",
    "for i, relpath in zip(range(nclass),paths):\n",
    "    path = cwd +\"/\"+relpath\n",
    "    flist = os.listdir(path)\n",
    "    for f in flist:\n",
    "        if os.path.splitext(f)[1].lower() not in valid_exts:\n",
    "            continue\n",
    "        fullpath = os.path.join(path, f)\n",
    "        currimg = imread(fullpath)\n",
    "        \n",
    "        if currimg.shape[2] == 4: # rgby\n",
    "            currimg = currimg[:,:,0:3]\n",
    "        \n",
    "        if use_gray:\n",
    "            grayimg = rgb2gray(currimg)\n",
    "        else:\n",
    "            grayimg = currimg\n",
    "        \n",
    "        #Resize\n",
    "        graysmall = imresize(grayimg, [imgsize[0], imgsize[1]])/255.\n",
    "        grayvec = np.reshape(graysmall, (1,-1))\n",
    "        print(grayvec.shape[1])\n",
    "        # Save\n",
    "        curr_label = np.eye(nclass, nclass)[i:i+1,:]\n",
    "        \n",
    "        if imgcnt:\n",
    "            totalimg = np.concatenate((totalimg, grayvec), axis = 0)\n",
    "            totallabel = np.concatenate((totallabel, curr_label), axis = 0)\n",
    "        else:\n",
    "            totalimg = grayvec\n",
    "            totallabel = curr_label\n",
    "        imgcnt = imgcnt + 1"
   ]
  },
  {
   "cell_type": "markdown",
   "metadata": {},
   "source": [
    "# Divide into Training and Test set"
   ]
  },
  {
   "cell_type": "code",
   "execution_count": 58,
   "metadata": {},
   "outputs": [],
   "source": [
    "randidx = np.random.randint(imgcnt, size = imgcnt)\n",
    "trainidx = randidx[0:int(4*imgcnt/5)]\n",
    "testidx = randidx[int(4*imgcnt/5):imgcnt]\n",
    "\n",
    "train_img = totalimg[trainidx]\n",
    "test_img = totalimg[testidx]\n",
    "\n",
    "train_label = totallabel[trainidx]\n",
    "test_label = totallabel[testidx]\n",
    "\n",
    "data_name=\"custom_text\""
   ]
  },
  {
   "cell_type": "code",
   "execution_count": 59,
   "metadata": {},
   "outputs": [
    {
     "data": {
      "text/plain": [
       "(array([2, 0, 1]), array([2, 0]))"
      ]
     },
     "execution_count": 59,
     "metadata": {},
     "output_type": "execute_result"
    }
   ],
   "source": [
    "randidx, trainidx"
   ]
  },
  {
   "cell_type": "markdown",
   "metadata": {},
   "source": [
    "# Save to NPZ"
   ]
  },
  {
   "cell_type": "code",
   "execution_count": 60,
   "metadata": {},
   "outputs": [],
   "source": [
    "savepath = cwd + \"/data/\" + data_name +\".npz\"\n",
    "np.savez(savepath, trainimg=train_img, trainlabel = train_label, testimg = test_img, testlabel = test_label, use_gray = use_gray, categories=categories)"
   ]
  },
  {
   "cell_type": "markdown",
   "metadata": {},
   "source": [
    "# Load NPZ"
   ]
  },
  {
   "cell_type": "code",
   "execution_count": 61,
   "metadata": {},
   "outputs": [
    {
     "name": "stdout",
     "output_type": "stream",
     "text": [
      "['trainimg', 'trainlabel', 'testimg', 'testlabel', 'use_gray', 'categories']\n"
     ]
    }
   ],
   "source": [
    "cwd = os.getcwd()\n",
    "loadpath = cwd + \"/data/\"+ data_name + \".npz\"\n",
    "loaded = np.load(loadpath)\n",
    "print(loaded.files)"
   ]
  },
  {
   "cell_type": "code",
   "execution_count": 62,
   "metadata": {},
   "outputs": [],
   "source": [
    "load_train_img = loaded['trainimg']\n",
    "load_test_img = loaded['testimg']\n",
    "load_train_label = loaded['trainlabel']\n",
    "load_test_label = loaded['testlabel']\n",
    "load_categories = loaded['categories']\n"
   ]
  },
  {
   "cell_type": "code",
   "execution_count": 63,
   "metadata": {},
   "outputs": [
    {
     "data": {
      "image/png": "[encoded data removed]",
      "text/plain": [
       "<Figure size 432x288 with 1 Axes>"
      ]
     },
     "metadata": {},
     "output_type": "display_data"
    },
    {
     "data": {
      "image/png": "[encoded data removed]",
      "text/plain": [
       "<Figure size 432x288 with 1 Axes>"
      ]
     },
     "metadata": {},
     "output_type": "display_data"
    }
   ],
   "source": [
    "for i in range(load_train_img.shape[0]):\n",
    "    curlabel_onehot = load_train_label[i]\n",
    "    curlabel = np.argmax(curlabel_onehot)\n",
    "    if use_gray:\n",
    "        curimg = np.reshape(load_train_img[i], (imgsize[0],-1))\n",
    "        plt.imshow(curimg, cmap=\"gray\")\n",
    "    else:\n",
    "        curimg = np.reshape(load_train_img[i], (imgsize[0],imgsize[1],-1))\n",
    "        plt.imshow(curimg)\n",
    "    \n",
    "    plt.title(categories[curlabel])\n",
    "    plt.show()"
   ]
  },
  {
   "cell_type": "code",
   "execution_count": null,
   "metadata": {},
   "outputs": [],
   "source": []
  }
 ],
 "metadata": {
  "kernelspec": {
   "display_name": "Python 3",
   "language": "python",
   "name": "python3"
  },
  "language_info": {
   "codemirror_mode": {
    "name": "ipython",
    "version": 3
   },
   "file_extension": ".py",
   "mimetype": "text/x-python",
   "name": "python",
   "nbconvert_exporter": "python",
   "pygments_lexer": "ipython3",
   "version": "3.6.8"
  }
 },
 "nbformat": 4,
 "nbformat_minor": 2
}

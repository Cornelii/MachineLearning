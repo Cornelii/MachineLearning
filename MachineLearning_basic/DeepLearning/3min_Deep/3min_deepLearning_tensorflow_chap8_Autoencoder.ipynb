{
 "cells": [
  {
   "cell_type": "markdown",
   "metadata": {},
   "source": [
    "## Ch8 AutoEncoder"
   ]
  },
  {
   "cell_type": "code",
   "execution_count": 1,
   "metadata": {},
   "outputs": [
    {
     "name": "stdout",
     "output_type": "stream",
     "text": [
      "Extracting ./mnist/data\\train-images-idx3-ubyte.gz\n",
      "Extracting ./mnist/data\\train-labels-idx1-ubyte.gz\n",
      "Extracting ./mnist/data\\t10k-images-idx3-ubyte.gz\n",
      "Extracting ./mnist/data\\t10k-labels-idx1-ubyte.gz\n"
     ]
    }
   ],
   "source": [
    "import tensorflow as tf\n",
    "import numpy as np\n",
    "import matplotlib.pyplot as plt\n",
    "\n",
    "from tensorflow.examples.tutorials.mnist import input_data\n",
    "mnist=input_data.read_data_sets('./mnist/data',one_hot=True)"
   ]
  },
  {
   "cell_type": "code",
   "execution_count": 22,
   "metadata": {},
   "outputs": [],
   "source": [
    "learning_rate=0.01\n",
    "training_epoch=20\n",
    "batch_size=200\n",
    "n_hidden=256\n",
    "n_input=28*28"
   ]
  },
  {
   "cell_type": "markdown",
   "metadata": {},
   "source": [
    "## placeholder"
   ]
  },
  {
   "cell_type": "code",
   "execution_count": 10,
   "metadata": {},
   "outputs": [],
   "source": [
    "X=tf.placeholder(tf.float32,[None,n_input])"
   ]
  },
  {
   "cell_type": "markdown",
   "metadata": {},
   "source": [
    "## Variables"
   ]
  },
  {
   "cell_type": "markdown",
   "metadata": {},
   "source": [
    "### Encoder"
   ]
  },
  {
   "cell_type": "code",
   "execution_count": 11,
   "metadata": {},
   "outputs": [],
   "source": [
    "W_encode=tf.Variable(tf.random_normal([n_input,n_hidden]))\n",
    "b_encode=tf.Variable(tf.random_normal([n_hidden]))\n",
    "\n",
    "encoder=tf.nn.sigmoid(tf.add(tf.matmul(X,W_encode),b_encode))"
   ]
  },
  {
   "cell_type": "markdown",
   "metadata": {},
   "source": [
    "### Decoder"
   ]
  },
  {
   "cell_type": "code",
   "execution_count": 12,
   "metadata": {},
   "outputs": [],
   "source": [
    "W_decode=tf.Variable(tf.random_normal([n_hidden,n_input]))\n",
    "b_decode=tf.Variable(tf.random_normal([n_input]))\n",
    "decoder=tf.nn.sigmoid(tf.add(tf.matmul(encoder,W_decode),b_decode))"
   ]
  },
  {
   "cell_type": "markdown",
   "metadata": {},
   "source": [
    "## Cost functions & Optimizer"
   ]
  },
  {
   "cell_type": "code",
   "execution_count": 25,
   "metadata": {},
   "outputs": [],
   "source": [
    "cost=tf.reduce_mean(tf.pow(X-decoder,2))\n",
    "optimizer=tf.train.RMSPropOptimizer(learning_rate).minimize(cost)"
   ]
  },
  {
   "cell_type": "markdown",
   "metadata": {},
   "source": [
    "## Learning Process"
   ]
  },
  {
   "cell_type": "code",
   "execution_count": null,
   "metadata": {},
   "outputs": [
    {
     "name": "stdout",
     "output_type": "stream",
     "text": [
      "Epoch: 0001 Avg.cost= 0.3144\n",
      "Epoch: 0002 Avg.cost= 0.0818\n",
      "Epoch: 0003 Avg.cost= 0.0645\n",
      "Epoch: 0004 Avg.cost= 0.0554\n",
      "Epoch: 0005 Avg.cost= 0.0503\n",
      "Epoch: 0006 Avg.cost= 0.0470\n",
      "Epoch: 0007 Avg.cost= 0.0456\n",
      "Epoch: 0008 Avg.cost= 0.0432\n",
      "Epoch: 0009 Avg.cost= 0.0419\n",
      "Epoch: 0010 Avg.cost= 0.0408\n",
      "Epoch: 0011 Avg.cost= 0.0400\n"
     ]
    }
   ],
   "source": [
    "init=tf.global_variables_initializer()\n",
    "sess=tf.Session()\n",
    "sess.run(init)\n",
    "\n",
    "total_batch=int(mnist.train.num_examples/batch_size)\n",
    "\n",
    "for epoch in range(training_epoch):\n",
    "    total_cost=0\n",
    "    \n",
    "    for jmi in range(total_batch):\n",
    "        batch_xs,batch_ys=mnist.train.next_batch(batch_size)\n",
    "        _,cost_val=sess.run([optimizer,cost],feed_dict={X:batch_xs})\n",
    "        total_cost+=cost_val\n",
    "\n",
    "    print('Epoch:','%04d'%(epoch+1),'Avg.cost=','{:.4f}'.format(total_cost/total_batch))\n",
    "    \n",
    "print('The optimization has done!')"
   ]
  },
  {
   "cell_type": "markdown",
   "metadata": {},
   "source": [
    "## Check"
   ]
  },
  {
   "cell_type": "code",
   "execution_count": 24,
   "metadata": {},
   "outputs": [
    {
     "data": {
      "image/png": "[encoded data removed]",
      "text/plain": [
       "<matplotlib.figure.Figure at 0x1a646108240>"
      ]
     },
     "metadata": {},
     "output_type": "display_data"
    }
   ],
   "source": [
    "sample_size=10\n",
    "samples=sess.run(decoder,feed_dict={X:mnist.test.images[:sample_size]})\n",
    "\n",
    "fig,ax=plt.subplots(2,sample_size,figsize=(sample_size,2))\n",
    "\n",
    "for jmi in range(sample_size):\n",
    "    ax[0][jmi].set_axis_off()\n",
    "    ax[1][jmi].set_axis_off()\n",
    "    ax[0][jmi].imshow(np.reshape(mnist.test.images[jmi],(28,28)))\n",
    "    ax[1][jmi].imshow(np.reshape(samples[jmi],(28,28)))\n",
    "    "
   ]
  },
  {
   "cell_type": "code",
   "execution_count": null,
   "metadata": {},
   "outputs": [],
   "source": []
  },
  {
   "cell_type": "code",
   "execution_count": null,
   "metadata": {},
   "outputs": [],
   "source": []
  }
 ],
 "metadata": {
  "kernelspec": {
   "display_name": "Python 3",
   "language": "python",
   "name": "python3"
  },
  "language_info": {
   "codemirror_mode": {
    "name": "ipython",
    "version": 3
   },
   "file_extension": ".py",
   "mimetype": "text/x-python",
   "name": "python",
   "nbconvert_exporter": "python",
   "pygments_lexer": "ipython3",
   "version": "3.6.3"
  }
 },
 "nbformat": 4,
 "nbformat_minor": 2
}

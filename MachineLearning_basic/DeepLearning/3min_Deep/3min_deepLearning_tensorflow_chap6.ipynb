{
 "cells": [
  {
   "cell_type": "code",
   "execution_count": 1,
   "metadata": {},
   "outputs": [],
   "source": [
    "import matplotlib.pyplot as plt\n",
    "import tensorflow as tf\n",
    "import numpy as np"
   ]
  },
  {
   "cell_type": "markdown",
   "metadata": {},
   "source": [
    "# Data setup"
   ]
  },
  {
   "cell_type": "code",
   "execution_count": 2,
   "metadata": {},
   "outputs": [
    {
     "name": "stdout",
     "output_type": "stream",
     "text": [
      "Extracting ./mnist/data/train-images-idx3-ubyte.gz\n",
      "Extracting ./mnist/data/train-labels-idx1-ubyte.gz\n",
      "Extracting ./mnist/data/t10k-images-idx3-ubyte.gz\n",
      "Extracting ./mnist/data/t10k-labels-idx1-ubyte.gz\n"
     ]
    }
   ],
   "source": [
    "from tensorflow.examples.tutorials.mnist import input_data\n",
    "mnist=input_data.read_data_sets(\"./mnist/data/\",one_hot=True)"
   ]
  },
  {
   "cell_type": "code",
   "execution_count": 3,
   "metadata": {},
   "outputs": [],
   "source": [
    "X=tf.placeholder(tf.float32,[None,784])\n",
    "Y=tf.placeholder(tf.float32,[None,10])\n",
    "keep_prob=tf.placeholder(tf.float32)"
   ]
  },
  {
   "cell_type": "markdown",
   "metadata": {},
   "source": [
    "# Layer"
   ]
  },
  {
   "cell_type": "code",
   "execution_count": 4,
   "metadata": {},
   "outputs": [],
   "source": [
    "params={\n",
    "    'W1':tf.Variable(tf.random_normal([784,256],stddev=0.01)),\n",
    "    'b1':tf.Variable(tf.zeros([256])),\n",
    "    'W2':tf.Variable(tf.random_normal([256,256],stddev=0.01)),\n",
    "    'b2':tf.Variable(tf.zeros([256])),\n",
    "    'W3':tf.Variable(tf.random_normal([256,10],stddev=0.01)),\n",
    "    'b3':tf.Variable(tf.zeros([10]))\n",
    "}"
   ]
  },
  {
   "cell_type": "code",
   "execution_count": 5,
   "metadata": {},
   "outputs": [],
   "source": [
    "def network(x,params):\n",
    "    L1=tf.add(tf.matmul(x,params['W1']),params['b1'])\n",
    "    L1=tf.nn.relu(L1)\n",
    "    L1=tf.nn.dropout(L1,keep_prob) # drop-out\n",
    "    \n",
    "    L2=tf.add(tf.matmul(L1,params['W2']),params['b2'])\n",
    "    L2=tf.nn.relu(L2)\n",
    "    L2=tf.nn.dropout(L2,keep_prob)\n",
    "    \n",
    "    out=tf.add(tf.matmul(L2,params['W3']),params['b3'])\n",
    "    return out\n",
    "pred=network(X,params)"
   ]
  },
  {
   "cell_type": "markdown",
   "metadata": {},
   "source": [
    "## Cost(Objective) Fcn & Optimizer"
   ]
  },
  {
   "cell_type": "code",
   "execution_count": 6,
   "metadata": {},
   "outputs": [],
   "source": [
    "cost=tf.reduce_mean(tf.nn.softmax_cross_entropy_with_logits(logits=pred,labels=Y))\n",
    "optimizer=tf.train.AdamOptimizer(learning_rate=0.001).minimize(cost)"
   ]
  },
  {
   "cell_type": "markdown",
   "metadata": {},
   "source": [
    "## Learning Process"
   ]
  },
  {
   "cell_type": "code",
   "execution_count": 7,
   "metadata": {},
   "outputs": [
    {
     "name": "stdout",
     "output_type": "stream",
     "text": [
      "Epoch 0001 Avg.cost= 0.436\n",
      "Epoch 0002 Avg.cost= 0.167\n",
      "Epoch 0003 Avg.cost= 0.117\n",
      "Epoch 0004 Avg.cost= 0.092\n",
      "Epoch 0005 Avg.cost= 0.074\n",
      "Epoch 0006 Avg.cost= 0.061\n",
      "Epoch 0007 Avg.cost= 0.056\n",
      "Epoch 0008 Avg.cost= 0.047\n",
      "Epoch 0009 Avg.cost= 0.040\n",
      "Epoch 0010 Avg.cost= 0.039\n",
      "Epoch 0011 Avg.cost= 0.034\n",
      "Epoch 0012 Avg.cost= 0.031\n",
      "Epoch 0013 Avg.cost= 0.029\n",
      "Epoch 0014 Avg.cost= 0.028\n",
      "Epoch 0015 Avg.cost= 0.027\n",
      "Epoch 0016 Avg.cost= 0.025\n",
      "Epoch 0017 Avg.cost= 0.025\n",
      "Epoch 0018 Avg.cost= 0.021\n",
      "Epoch 0019 Avg.cost= 0.020\n",
      "Epoch 0020 Avg.cost= 0.022\n",
      "Epoch 0021 Avg.cost= 0.019\n",
      "Epoch 0022 Avg.cost= 0.018\n",
      "Epoch 0023 Avg.cost= 0.019\n",
      "Epoch 0024 Avg.cost= 0.019\n",
      "Epoch 0025 Avg.cost= 0.018\n",
      "Epoch 0026 Avg.cost= 0.014\n",
      "Epoch 0027 Avg.cost= 0.017\n",
      "Epoch 0028 Avg.cost= 0.018\n",
      "Epoch 0029 Avg.cost= 0.017\n",
      "Epoch 0030 Avg.cost= 0.014\n"
     ]
    }
   ],
   "source": [
    "init=tf.global_variables_initializer()\n",
    "sess=tf.Session()\n",
    "sess.run(init)\n",
    "\n",
    "batch_size=100\n",
    "total_batch=int(mnist.train.num_examples/batch_size)\n",
    "\n",
    "for epoch in range(30):\n",
    "    total_cost=0\n",
    "    \n",
    "    for jmi in range(total_batch):\n",
    "        batch_xs,batch_ys=mnist.train.next_batch(batch_size)\n",
    "        \n",
    "        _,cost_val=sess.run([optimizer,cost],feed_dict={X:batch_xs,Y:batch_ys,keep_prob:0.8})\n",
    "        \n",
    "        total_cost+=cost_val\n",
    "        \n",
    "    print('Epoch', '%04d' %(epoch+1),'Avg.cost=','{:.3f}'.format(total_cost/total_batch))"
   ]
  },
  {
   "cell_type": "code",
   "execution_count": 8,
   "metadata": {},
   "outputs": [
    {
     "name": "stdout",
     "output_type": "stream",
     "text": [
      "Accuracy: 0.9806\n"
     ]
    }
   ],
   "source": [
    "is_correct=tf.equal(tf.argmax(pred,1),tf.argmax(Y,1))\n",
    "accuracy=tf.reduce_mean(tf.cast(is_correct,tf.float32))\n",
    "print('Accuracy:',sess.run(accuracy,feed_dict={X:mnist.test.images,Y:mnist.test.labels,keep_prob:1}))"
   ]
  },
  {
   "cell_type": "markdown",
   "metadata": {},
   "source": [
    "## To check result"
   ]
  },
  {
   "cell_type": "code",
   "execution_count": 12,
   "metadata": {},
   "outputs": [
    {
     "data": {
      "text/plain": [
       "<matplotlib.figure.Figure at 0x291d17beef0>"
      ]
     },
     "metadata": {},
     "output_type": "display_data"
    }
   ],
   "source": [
    "labels=sess.run(pred,feed_dict={X:mnist.test.images,Y:mnist.test.labels,keep_prob:1})\n",
    "fig=plt.figure()"
   ]
  },
  {
   "cell_type": "code",
   "execution_count": 13,
   "metadata": {},
   "outputs": [],
   "source": [
    "for jmi in range(10):\n",
    "    subplot=fig.add_subplot(2,5,jmi+1)\n",
    "    subplot.set_xticks([])\n",
    "    subplot.set_yticks([])\n",
    "    subplot.set_title('%d'%np.argmax(labels[jmi]))\n",
    "    subplot.imshow(mnist.test.images[jmi].reshape((28,28)),cmap=plt.cm.gray_r)"
   ]
  },
  {
   "cell_type": "code",
   "execution_count": 14,
   "metadata": {},
   "outputs": [],
   "source": [
    "plt.show()"
   ]
  }
 ],
 "metadata": {
  "kernelspec": {
   "display_name": "Python 3",
   "language": "python",
   "name": "python3"
  },
  "language_info": {
   "codemirror_mode": {
    "name": "ipython",
    "version": 3
   },
   "file_extension": ".py",
   "mimetype": "text/x-python",
   "name": "python",
   "nbconvert_exporter": "python",
   "pygments_lexer": "ipython3",
   "version": "3.6.3"
  }
 },
 "nbformat": 4,
 "nbformat_minor": 2
}

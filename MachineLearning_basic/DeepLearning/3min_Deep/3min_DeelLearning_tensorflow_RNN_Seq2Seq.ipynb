{
 "cells": [
  {
   "cell_type": "markdown",
   "metadata": {},
   "source": [
    "# RNN Sequence to Sequence (Google)"
   ]
  },
  {
   "cell_type": "code",
   "execution_count": 1,
   "metadata": {},
   "outputs": [],
   "source": [
    "import tensorflow as tf\n",
    "import numpy as np\n",
    "\n",
    "char_arr=[c for c in 'SEPabcdefghijklmnopqrstuvwxyz단어나무놀이소녀키스사랑']\n",
    "num_dic={n: jmi for jmi, n in enumerate(char_arr)}\n",
    "dic_len=len(num_dic)\n",
    "\n",
    "seq_data=[['word','단어'],['wood','나무'],['game','놀이'],['girl','소녀'],['kiss','키스'],['love','사랑']]"
   ]
  },
  {
   "cell_type": "code",
   "execution_count": 2,
   "metadata": {},
   "outputs": [],
   "source": [
    "def make_batch(seq_data):\n",
    "    input_batch=[]\n",
    "    output_batch=[]\n",
    "    target_batch=[]\n",
    "    \n",
    "    for seq in seq_data:\n",
    "        input=[num_dic[n] for n in seq[0]]\n",
    "        output=[num_dic[n] for n in ('S'+seq[1])]\n",
    "        target=[num_dic[n] for n in (seq[1]+'E')]\n",
    "        \n",
    "        input_batch.append(np.eye(dic_len)[input])\n",
    "        output_batch.append(np.eye(dic_len)[output])\n",
    "        target_batch.append(target)\n",
    "        \n",
    "    return input_batch, output_batch, target_batch"
   ]
  },
  {
   "cell_type": "code",
   "execution_count": 3,
   "metadata": {},
   "outputs": [],
   "source": [
    "learning_rate=0.01\n",
    "n_hidden=128\n",
    "total_epoch=100\n",
    "\n",
    "n_class = n_input=dic_len"
   ]
  },
  {
   "cell_type": "code",
   "execution_count": 4,
   "metadata": {},
   "outputs": [],
   "source": [
    "enc_input=tf.placeholder(tf.float32,[None,None,n_input])\n",
    "dec_input=tf.placeholder(tf.float32,[None,None,n_input])\n",
    "targets=tf.placeholder(tf.int64,[None,None])\n"
   ]
  },
  {
   "cell_type": "code",
   "execution_count": 5,
   "metadata": {},
   "outputs": [],
   "source": [
    "with tf.variable_scope('encode'):\n",
    "    enc_cell=tf.nn.rnn_cell.BasicRNNCell(n_hidden)\n",
    "    enc_cell=tf.nn.rnn_cell.DropoutWrapper(enc_cell,output_keep_prob=0.5)\n",
    "    \n",
    "    outputs, enc_states=tf.nn.dynamic_rnn(enc_cell,enc_input,dtype=tf.float32)\n",
    "    \n",
    "with tf.variable_scope('decode'):\n",
    "    dec_cell=tf.nn.rnn_cell.BasicRNNCell(n_hidden)\n",
    "    dec_cell=tf.nn.rnn_cell.DropoutWrapper(dec_cell,output_keep_prob=0.5)\n",
    "    \n",
    "    outputs,dec_states=tf.nn.dynamic_rnn(dec_cell,dec_input,initial_state=enc_states,dtype=tf.float32)\n",
    "    "
   ]
  },
  {
   "cell_type": "code",
   "execution_count": 7,
   "metadata": {},
   "outputs": [],
   "source": [
    "model=tf.layers.dense(outputs,n_class,activation=None)\n",
    "cost=tf.reduce_mean(tf.nn.sparse_softmax_cross_entropy_with_logits(logits=model,labels=targets))\n",
    "\n",
    "optimizer=tf.train.AdamOptimizer(learning_rate).minimize(cost)"
   ]
  },
  {
   "cell_type": "code",
   "execution_count": 9,
   "metadata": {},
   "outputs": [
    {
     "name": "stdout",
     "output_type": "stream",
     "text": [
      "Epoch: 0001 cost= 3.831202\n",
      "Epoch: 0002 cost= 2.888437\n",
      "Epoch: 0003 cost= 1.676877\n",
      "Epoch: 0004 cost= 1.169592\n",
      "Epoch: 0005 cost= 0.612504\n",
      "Epoch: 0006 cost= 0.384459\n",
      "Epoch: 0007 cost= 0.382823\n",
      "Epoch: 0008 cost= 0.310285\n",
      "Epoch: 0009 cost= 0.084404\n",
      "Epoch: 0010 cost= 0.121591\n",
      "Epoch: 0011 cost= 0.078178\n",
      "Epoch: 0012 cost= 0.161226\n",
      "Epoch: 0013 cost= 0.097947\n",
      "Epoch: 0014 cost= 0.138480\n",
      "Epoch: 0015 cost= 0.038100\n",
      "Epoch: 0016 cost= 0.074503\n",
      "Epoch: 0017 cost= 0.080966\n",
      "Epoch: 0018 cost= 0.028956\n",
      "Epoch: 0019 cost= 0.009464\n",
      "Epoch: 0020 cost= 0.013523\n",
      "Epoch: 0021 cost= 0.008892\n",
      "Epoch: 0022 cost= 0.021033\n",
      "Epoch: 0023 cost= 0.008289\n",
      "Epoch: 0024 cost= 0.013547\n",
      "Epoch: 0025 cost= 0.045087\n",
      "Epoch: 0026 cost= 0.003272\n",
      "Epoch: 0027 cost= 0.003769\n",
      "Epoch: 0028 cost= 0.019242\n",
      "Epoch: 0029 cost= 0.002999\n",
      "Epoch: 0030 cost= 0.000984\n",
      "Epoch: 0031 cost= 0.003302\n",
      "Epoch: 0032 cost= 0.003865\n",
      "Epoch: 0033 cost= 0.006565\n",
      "Epoch: 0034 cost= 0.004064\n",
      "Epoch: 0035 cost= 0.001066\n",
      "Epoch: 0036 cost= 0.010724\n",
      "Epoch: 0037 cost= 0.017748\n",
      "Epoch: 0038 cost= 0.012497\n",
      "Epoch: 0039 cost= 0.000973\n",
      "Epoch: 0040 cost= 0.000930\n",
      "Epoch: 0041 cost= 0.001677\n",
      "Epoch: 0042 cost= 0.003040\n",
      "Epoch: 0043 cost= 0.001300\n",
      "Epoch: 0044 cost= 0.007496\n",
      "Epoch: 0045 cost= 0.001466\n",
      "Epoch: 0046 cost= 0.001201\n",
      "Epoch: 0047 cost= 0.002857\n",
      "Epoch: 0048 cost= 0.000670\n",
      "Epoch: 0049 cost= 0.000602\n",
      "Epoch: 0050 cost= 0.000909\n",
      "Epoch: 0051 cost= 0.002055\n",
      "Epoch: 0052 cost= 0.002329\n",
      "Epoch: 0053 cost= 0.000820\n",
      "Epoch: 0054 cost= 0.003381\n",
      "Epoch: 0055 cost= 0.000589\n",
      "Epoch: 0056 cost= 0.000348\n",
      "Epoch: 0057 cost= 0.000247\n",
      "Epoch: 0058 cost= 0.000448\n",
      "Epoch: 0059 cost= 0.001162\n",
      "Epoch: 0060 cost= 0.000530\n",
      "Epoch: 0061 cost= 0.003945\n",
      "Epoch: 0062 cost= 0.000730\n",
      "Epoch: 0063 cost= 0.000395\n",
      "Epoch: 0064 cost= 0.000550\n",
      "Epoch: 0065 cost= 0.000696\n",
      "Epoch: 0066 cost= 0.002417\n",
      "Epoch: 0067 cost= 0.000804\n",
      "Epoch: 0068 cost= 0.000540\n",
      "Epoch: 0069 cost= 0.001099\n",
      "Epoch: 0070 cost= 0.000715\n",
      "Epoch: 0071 cost= 0.000217\n",
      "Epoch: 0072 cost= 0.000223\n",
      "Epoch: 0073 cost= 0.000195\n",
      "Epoch: 0074 cost= 0.000198\n",
      "Epoch: 0075 cost= 0.000602\n",
      "Epoch: 0076 cost= 0.000625\n",
      "Epoch: 0077 cost= 0.000479\n",
      "Epoch: 0078 cost= 0.000416\n",
      "Epoch: 0079 cost= 0.000377\n",
      "Epoch: 0080 cost= 0.000215\n",
      "Epoch: 0081 cost= 0.000569\n",
      "Epoch: 0082 cost= 0.000140\n",
      "Epoch: 0083 cost= 0.000382\n",
      "Epoch: 0084 cost= 0.000944\n",
      "Epoch: 0085 cost= 0.000186\n",
      "Epoch: 0086 cost= 0.000293\n",
      "Epoch: 0087 cost= 0.000242\n",
      "Epoch: 0088 cost= 0.000927\n",
      "Epoch: 0089 cost= 0.000169\n",
      "Epoch: 0090 cost= 0.000111\n",
      "Epoch: 0091 cost= 0.000214\n",
      "Epoch: 0092 cost= 0.000178\n",
      "Epoch: 0093 cost= 0.000373\n",
      "Epoch: 0094 cost= 0.000837\n",
      "Epoch: 0095 cost= 0.000132\n",
      "Epoch: 0096 cost= 0.000096\n",
      "Epoch: 0097 cost= 0.000153\n",
      "Epoch: 0098 cost= 0.000357\n",
      "Epoch: 0099 cost= 0.000401\n",
      "Epoch: 0100 cost= 0.000212\n",
      "The optimization has been done!\n"
     ]
    }
   ],
   "source": [
    "sess=tf.Session()\n",
    "sess.run(tf.global_variables_initializer())\n",
    "input_batch,output_batch,target_batch=make_batch(seq_data)\n",
    "\n",
    "for epoch in range(total_epoch):\n",
    "    _,loss=sess.run([optimizer,cost],feed_dict={enc_input:input_batch,dec_input:output_batch,targets:target_batch})\n",
    "    \n",
    "    print('Epoch:','%04d'%(epoch+1),'cost=','{:.6f}'.format(loss))\n",
    "    \n",
    "print('The optimization has been done!')\n",
    "    "
   ]
  },
  {
   "cell_type": "code",
   "execution_count": 10,
   "metadata": {},
   "outputs": [],
   "source": [
    "def translate(word):\n",
    "    seq_data=[word,'P'*len(word)]\n",
    "    \n",
    "    input_batch,output_batch,target_batch=make_batch([seq_data])\n",
    "    \n",
    "    prediction=tf.argmax(model,2)\n",
    "    \n",
    "    result=sess.run(prediction,feed_dict={enc_input:input_batch,dec_input:output_batch,targets:target_batch})\n",
    "    \n",
    "    decoded=[char_arr[jmi] for jmi in result[0]]\n",
    "    end=decoded.index('E')\n",
    "    translated=''.join(decoded[:end])\n",
    "    \n",
    "    return translated"
   ]
  },
  {
   "cell_type": "code",
   "execution_count": 11,
   "metadata": {},
   "outputs": [
    {
     "name": "stdout",
     "output_type": "stream",
     "text": [
      "\n",
      "==== translating test====\n",
      "word -> 단어\n",
      "wodr -> 나무\n",
      "love -> 사랑\n",
      "loev -> 사랑\n",
      "abcd -> 사랑\n"
     ]
    }
   ],
   "source": [
    "print('\\n==== translating test====')\n",
    "\n",
    "print('word ->', translate('word'))\n",
    "print('wodr ->', translate('wodr'))\n",
    "print('love ->', translate('love'))\n",
    "print('loev ->', translate('loev'))\n",
    "print('abcd ->', translate('abcd'))"
   ]
  }
 ],
 "metadata": {
  "kernelspec": {
   "display_name": "Python 3",
   "language": "python",
   "name": "python3"
  },
  "language_info": {
   "codemirror_mode": {
    "name": "ipython",
    "version": 3
   },
   "file_extension": ".py",
   "mimetype": "text/x-python",
   "name": "python",
   "nbconvert_exporter": "python",
   "pygments_lexer": "ipython3",
   "version": "3.6.3"
  }
 },
 "nbformat": 4,
 "nbformat_minor": 2
}

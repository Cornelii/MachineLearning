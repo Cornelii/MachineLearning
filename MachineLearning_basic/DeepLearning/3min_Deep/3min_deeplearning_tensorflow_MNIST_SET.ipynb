{
 "cells": [
  {
   "cell_type": "markdown",
   "metadata": {},
   "source": [
    "# MNIST DATA Set & Drop out & Batch Normalization"
   ]
  },
  {
   "cell_type": "markdown",
   "metadata": {},
   "source": [
    "# To import modules "
   ]
  },
  {
   "cell_type": "code",
   "execution_count": 1,
   "metadata": {},
   "outputs": [],
   "source": [
    "import tensorflow as tf\n",
    "import numpy as np"
   ]
  },
  {
   "cell_type": "markdown",
   "metadata": {},
   "source": [
    "## To get MINIST data set"
   ]
  },
  {
   "cell_type": "code",
   "execution_count": 2,
   "metadata": {},
   "outputs": [
    {
     "name": "stdout",
     "output_type": "stream",
     "text": [
      "Extracting ./mnist/data/train-images-idx3-ubyte.gz\n",
      "Extracting ./mnist/data/train-labels-idx1-ubyte.gz\n",
      "Extracting ./mnist/data/t10k-images-idx3-ubyte.gz\n",
      "Extracting ./mnist/data/t10k-labels-idx1-ubyte.gz\n"
     ]
    }
   ],
   "source": [
    "from tensorflow.examples.tutorials.mnist import input_data\n",
    "mnist=input_data.read_data_sets(\"./mnist/data/\",one_hot=True)"
   ]
  },
  {
   "cell_type": "markdown",
   "metadata": {},
   "source": [
    "## Place holder setup"
   ]
  },
  {
   "cell_type": "code",
   "execution_count": 3,
   "metadata": {},
   "outputs": [],
   "source": [
    "X=tf.placeholder(tf.float32,[None,784])\n",
    "Y=tf.placeholder(tf.float32,[None,10])"
   ]
  },
  {
   "cell_type": "markdown",
   "metadata": {},
   "source": [
    "## Variables setup with Drop-out & Batch-Normalization "
   ]
  },
  {
   "cell_type": "code",
   "execution_count": 4,
   "metadata": {},
   "outputs": [],
   "source": [
    "keep_prob=tf.placeholder(tf.float32)\n",
    "\n",
    "W1=tf.Variable(tf.random_normal([784,256],stddev=0.01))\n",
    "L1=tf.nn.relu(tf.matmul(X,W1))\n",
    "L1=tf.nn.dropout(L1,keep_prob) ### drop out layer\n",
    "\n",
    "#### Batch-Normalization\n",
    "\n",
    "\n",
    "\n",
    "L1=tf.layers.batch_normalization(L1,training=is_training)\n",
    "\n",
    "W2=tf.Variable(tf.random_normal([256,256],stddev=0.01))\n",
    "L2=tf.nn.relu(tf.matmul(L1,W2))\n",
    "L2=tf.nn.dropout(L2,keep_prob) ### drop out layer\n",
    "\n",
    "W3=tf.Variable(tf.random_normal([256,10],stddev=0.01))\n",
    "model=tf.matmul(L2,W3)"
   ]
  },
  {
   "cell_type": "markdown",
   "metadata": {},
   "source": [
    "# Objective Fcn and Optimizer"
   ]
  },
  {
   "cell_type": "code",
   "execution_count": 5,
   "metadata": {},
   "outputs": [],
   "source": [
    "cost=tf.reduce_mean(tf.nn.softmax_cross_entropy_with_logits(logits=model,labels=Y))\n",
    "optimizer=tf.train.AdamOptimizer(0.001).minimize(cost)"
   ]
  },
  {
   "cell_type": "markdown",
   "metadata": {},
   "source": [
    "# Session setup and Learning process"
   ]
  },
  {
   "cell_type": "code",
   "execution_count": 6,
   "metadata": {},
   "outputs": [],
   "source": [
    "init=tf.global_variables_initializer()\n",
    "sess=tf.Session()\n",
    "sess.run(init)"
   ]
  },
  {
   "cell_type": "code",
   "execution_count": 7,
   "metadata": {},
   "outputs": [],
   "source": [
    "batch_size=100\n",
    "total_batch=int(mnist.train.num_examples/batch_size)"
   ]
  },
  {
   "cell_type": "code",
   "execution_count": 9,
   "metadata": {},
   "outputs": [
    {
     "name": "stdout",
     "output_type": "stream",
     "text": [
      "Epoch: 0001 Avg.cost= 0.024221\n",
      "Epoch: 0002 Avg.cost= 0.023143\n",
      "Epoch: 0003 Avg.cost= 0.021940\n",
      "Epoch: 0004 Avg.cost= 0.023208\n",
      "Epoch: 0005 Avg.cost= 0.021091\n",
      "Epoch: 0006 Avg.cost= 0.018868\n",
      "Epoch: 0007 Avg.cost= 0.019564\n",
      "Epoch: 0008 Avg.cost= 0.019509\n",
      "Epoch: 0009 Avg.cost= 0.018441\n",
      "Epoch: 0010 Avg.cost= 0.016947\n",
      "Epoch: 0011 Avg.cost= 0.015634\n",
      "Epoch: 0012 Avg.cost= 0.016832\n",
      "Epoch: 0013 Avg.cost= 0.018355\n",
      "Epoch: 0014 Avg.cost= 0.016801\n",
      "Epoch: 0015 Avg.cost= 0.016514\n",
      "Epoch: 0016 Avg.cost= 0.016962\n",
      "Epoch: 0017 Avg.cost= 0.017425\n",
      "Epoch: 0018 Avg.cost= 0.014889\n",
      "Epoch: 0019 Avg.cost= 0.015510\n",
      "Epoch: 0020 Avg.cost= 0.013232\n",
      "Epoch: 0021 Avg.cost= 0.012506\n",
      "Epoch: 0022 Avg.cost= 0.014144\n",
      "Epoch: 0023 Avg.cost= 0.013540\n",
      "Epoch: 0024 Avg.cost= 0.012648\n",
      "Epoch: 0025 Avg.cost= 0.012903\n",
      "Epoch: 0026 Avg.cost= 0.014410\n",
      "Epoch: 0027 Avg.cost= 0.011667\n",
      "Epoch: 0028 Avg.cost= 0.011320\n",
      "Epoch: 0029 Avg.cost= 0.013249\n",
      "Epoch: 0030 Avg.cost= 0.010136\n",
      "optimization has done!\n"
     ]
    }
   ],
   "source": [
    "for epoch in range(30):\n",
    "    total_cost=0\n",
    "    \n",
    "    for jmi in range(total_batch):\n",
    "        batch_xs,batch_ys=mnist.train.next_batch(batch_size)\n",
    "        \n",
    "        _,cost_val=sess.run([optimizer,cost],feed_dict={X:batch_xs,Y:batch_ys,keep_prob:0.8})\n",
    "        total_cost+=cost_val\n",
    "    print('Epoch:','%04d'%(epoch+1),'Avg.cost=','{:3f}'.format(total_cost/total_batch))\n",
    "    \n",
    "print('optimization has done!')"
   ]
  },
  {
   "cell_type": "code",
   "execution_count": 10,
   "metadata": {},
   "outputs": [],
   "source": [
    "is_correct=tf.equal(tf.argmax(model,1),tf.argmax(Y,1))\n",
    "\n",
    "accuracy=tf.reduce_mean(tf.cast(is_correct,tf.float32))"
   ]
  },
  {
   "cell_type": "code",
   "execution_count": 11,
   "metadata": {},
   "outputs": [
    {
     "name": "stdout",
     "output_type": "stream",
     "text": [
      "Accuracy : 0.9824\n"
     ]
    }
   ],
   "source": [
    "print('Accuracy :', sess.run(accuracy,feed_dict={X:mnist.test.images,Y:mnist.test.labels,keep_prob:1}))"
   ]
  }
 ],
 "metadata": {
  "kernelspec": {
   "display_name": "Python 3",
   "language": "python",
   "name": "python3"
  },
  "language_info": {
   "codemirror_mode": {
    "name": "ipython",
    "version": 3
   },
   "file_extension": ".py",
   "mimetype": "text/x-python",
   "name": "python",
   "nbconvert_exporter": "python",
   "pygments_lexer": "ipython3",
   "version": "3.5.4"
  }
 },
 "nbformat": 4,
 "nbformat_minor": 2
}

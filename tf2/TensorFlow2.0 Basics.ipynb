{
 "cells": [
  {
   "cell_type": "markdown",
   "metadata": {},
   "source": [
    "# Tensorflow 2.0 Basics"
   ]
  },
  {
   "cell_type": "markdown",
   "metadata": {},
   "source": [
    "## I. Tensor & Simple Gradient"
   ]
  },
  {
   "cell_type": "code",
   "execution_count": 1,
   "metadata": {},
   "outputs": [],
   "source": [
    "import tensorflow as tf"
   ]
  },
  {
   "cell_type": "markdown",
   "metadata": {},
   "source": [
    "#### i. Tensor\n",
    "Tensor is basic data type in tensorflow\n",
    "\n",
    "A tensor has dtype and shape."
   ]
  },
  {
   "cell_type": "code",
   "execution_count": 12,
   "metadata": {},
   "outputs": [
    {
     "name": "stdout",
     "output_type": "stream",
     "text": [
      "--- r0 tensor ---\n",
      "<class 'tensorflow.python.framework.ops.EagerTensor'>\n",
      "()\n",
      "5\n",
      "--- r1 tensor ---\n",
      "<class 'tensorflow.python.framework.ops.EagerTensor'>\n",
      "(3,)\n",
      "[1. 5. 4.]\n"
     ]
    }
   ],
   "source": [
    "r0_tensor = tf.constant(5) # rank 0 tensor\n",
    "print('--- r0 tensor ---')\n",
    "print(type(r0_tensor))\n",
    "print(r0_tensor.shape)\n",
    "print(r0_tensor.numpy())\n",
    "\n",
    "r1_tensor = tf.constant([1,5,4.0], dtype=tf.float16)\n",
    "print('--- r1 tensor ---')\n",
    "print(type(r1_tensor))\n",
    "print(r1_tensor.shape)\n",
    "print(r1_tensor.numpy())\n",
    "\n",
    "## rank2, 3, 4, 5, and so on"
   ]
  },
  {
   "cell_type": "code",
   "execution_count": 17,
   "metadata": {},
   "outputs": [
    {
     "name": "stdout",
     "output_type": "stream",
     "text": [
      "tf.Tensor(\n",
      "[[11.   3.6]\n",
      " [ 8.  11.5]], shape=(2, 2), dtype=float16)\n",
      "tf.Tensor(\n",
      "[[30.   3.2]\n",
      " [12.  31.5]], shape=(2, 2), dtype=float16)\n",
      "tf.Tensor(\n",
      "[[34.  17. ]\n",
      " [50.  41.1]], shape=(2, 2), dtype=float16)\n",
      "\n",
      "tf.Tensor(\n",
      "[[11.   3.6]\n",
      " [ 8.  11.5]], shape=(2, 2), dtype=float16)\n",
      "tf.Tensor(\n",
      "[[30.   3.2]\n",
      " [12.  31.5]], shape=(2, 2), dtype=float16)\n",
      "tf.Tensor(\n",
      "[[34.  17. ]\n",
      " [50.  41.1]], shape=(2, 2), dtype=float16)\n"
     ]
    }
   ],
   "source": [
    "a = tf.constant([[5,2], [6,7]], dtype=tf.float16)\n",
    "b = tf.constant([[6, 1.6], [2, 4.5]], dtype = tf.float16)\n",
    "\n",
    "print(tf.add(a,b))\n",
    "print(tf.multiply(a,b))\n",
    "print(tf.matmul(a,b))\n",
    "print()\n",
    "print(a+b)\n",
    "print(a*b)\n",
    "print(a@b)"
   ]
  },
  {
   "cell_type": "markdown",
   "metadata": {},
   "source": [
    "#### ii. Reshape Tensor"
   ]
  },
  {
   "cell_type": "code",
   "execution_count": 23,
   "metadata": {},
   "outputs": [
    {
     "name": "stdout",
     "output_type": "stream",
     "text": [
      "tf.Tensor(\n",
      "[[1. 2.]\n",
      " [3. 4.]], shape=(2, 2), dtype=float32)\n",
      "(2, 2)\n",
      "tf.Tensor([[1. 2. 3. 4.]], shape=(1, 4), dtype=float32)\n",
      "(1, 4)\n",
      "tf.Tensor(\n",
      "[[1. 2.]\n",
      " [3. 4.]], shape=(2, 2), dtype=float32)\n",
      "(2, 2)\n"
     ]
    }
   ],
   "source": [
    "asis_tensor = tf.constant([[1,2], [3, 4]], dtype=tf.float32)\n",
    "print(asis_tensor)\n",
    "print(asis_tensor.shape)\n",
    "\n",
    "tobe_tensor = tf.reshape(asis_tensor, [1, 4])\n",
    "print(tobe_tensor)\n",
    "print(tobe_tensor.shape)\n",
    "\n",
    "tobe_tensor2 = tf.reshape(tobe_tensor, [2, -1]) # -1 means proper shape\n",
    "print(tobe_tensor2)\n",
    "print(tobe_tensor2.shape)"
   ]
  },
  {
   "cell_type": "markdown",
   "metadata": {},
   "source": [
    "#### iii. RaggdTensor, String Tensor & Sparse Tensor"
   ]
  },
  {
   "cell_type": "code",
   "execution_count": null,
   "metadata": {},
   "outputs": [],
   "source": []
  },
  {
   "cell_type": "markdown",
   "metadata": {},
   "source": [
    "#### iv. Variables"
   ]
  },
  {
   "cell_type": "code",
   "execution_count": 27,
   "metadata": {},
   "outputs": [
    {
     "name": "stdout",
     "output_type": "stream",
     "text": [
      "<tf.Variable 'Variable:0' shape=(2, 2) dtype=float32, numpy=\n",
      "array([[ 5., 12.],\n",
      "       [ 1.,  2.]], dtype=float32)>\n",
      "<class 'tensorflow.python.ops.resource_variable_ops.ResourceVariable'>\n",
      "(2, 2)\n",
      "<tf.Variable 'Variable:0' shape=(2,) dtype=int32, numpy=array([2, 5])>\n",
      "<class 'tensorflow.python.ops.resource_variable_ops.ResourceVariable'>\n",
      "(2,)\n"
     ]
    }
   ],
   "source": [
    "t1 = tf.constant([[5,12.0], [1, 2]], dtype=tf.float32)\n",
    "v1 = tf.Variable(t1)\n",
    "\n",
    "print(v1)\n",
    "print(type(v1))\n",
    "print(v1.shape)\n",
    "\n",
    "# naming\n",
    "v2 = tf.Variable(t1, name=\"my_var1\")\n",
    "\n",
    "# turn off the gradient\n",
    "v3 = tf.Variable([2,5], trainable=False)\n",
    "print(v3),\n",
    "print(type(v3))\n",
    "print(v3.shape)"
   ]
  },
  {
   "cell_type": "markdown",
   "metadata": {},
   "source": [
    "#### v. allocate Variable & Tensor"
   ]
  },
  {
   "cell_type": "code",
   "execution_count": 32,
   "metadata": {},
   "outputs": [
    {
     "name": "stdout",
     "output_type": "stream",
     "text": [
      "tf.Tensor([5. 8.], shape=(2,), dtype=float32)\n"
     ]
    }
   ],
   "source": [
    "with tf.device('CPU:0'):\n",
    "    a = tf.Variable([5,4], dtype=tf.float32)\n",
    "    b = tf.Variable([1,2], dtype=tf.float32)\n",
    "    c = a*b\n",
    "    \n",
    "print(c)  "
   ]
  },
  {
   "cell_type": "markdown",
   "metadata": {},
   "source": [
    "#### vi. How to get gradient"
   ]
  },
  {
   "cell_type": "code",
   "execution_count": 33,
   "metadata": {},
   "outputs": [],
   "source": [
    "## Gradient Tape\n",
    "\n",
    "x = tf.Variable(5.9)\n",
    "\n",
    "with tf.GradientTape() as tape:\n",
    "    y = x*3"
   ]
  },
  {
   "cell_type": "code",
   "execution_count": 34,
   "metadata": {},
   "outputs": [
    {
     "data": {
      "text/plain": [
       "3.0"
      ]
     },
     "execution_count": 34,
     "metadata": {},
     "output_type": "execute_result"
    }
   ],
   "source": [
    "dy_dx = tape.gradient(y, x)\n",
    "dy_dx.numpy()"
   ]
  },
  {
   "cell_type": "code",
   "execution_count": 40,
   "metadata": {},
   "outputs": [
    {
     "name": "stdout",
     "output_type": "stream",
     "text": [
      "dense_5/kernel:0, shape: (3, 2) gradient:[[0. 0.]\n",
      " [0. 0.]\n",
      " [0. 0.]]\n",
      "dense_5/bias:0, shape: (2,) gradient:[0. 0.]\n"
     ]
    },
    {
     "data": {
      "text/plain": [
       "['dense_5/kernel:0', 'dense_5/bias:0']"
      ]
     },
     "execution_count": 40,
     "metadata": {},
     "output_type": "execute_result"
    }
   ],
   "source": [
    "## Gradient with respect to Model\n",
    "\n",
    "layer = tf.keras.layers.Dense(2, activation='relu')\n",
    "x = tf.constant([[1, 2., 5.]])\n",
    "\n",
    "with tf.GradientTape() as tape:\n",
    "    y = layer(x)\n",
    "    loss = tf.reduce_mean(y**2)\n",
    "    \n",
    "grad = tape.gradient(loss, layer.trainable_variables)\n",
    "\n",
    "for v, g in zip(layer.trainable_variables, grad):\n",
    "    print(f'{v.name}, shape: {g.shape} gradient:{g}')\n",
    "    \n",
    "[v.name for v in tape.watched_variables()]\n",
    "\n",
    "# Tensor can not be recorded in tape. \n",
    "# It means tepe can not get gradient of tensor! but valid for variable"
   ]
  },
  {
   "cell_type": "code",
   "execution_count": 43,
   "metadata": {},
   "outputs": [
    {
     "name": "stdout",
     "output_type": "stream",
     "text": [
      "gradient for x0 : None\n",
      "gradient for x1 : 0.8320183753967285\n"
     ]
    }
   ],
   "source": [
    "# select watched variable to get gradient\n",
    "\n",
    "x0 = tf.Variable(5.0)\n",
    "x1 = tf.Variable(1.6)\n",
    "\n",
    "with tf.GradientTape(watch_accessed_variables=False) as tape:\n",
    "    tape.watch(x1) # only watch x1\n",
    "    y0 = tf.math.sin(x0)\n",
    "    y1 = tf.nn.softplus(x1)\n",
    "    y = y0 + y1\n",
    "    ys = tf.reduce_sum(y)\n",
    "    \n",
    "grad = tape.gradient(ys, {'x0': x0, 'x1': x1})\n",
    "\n",
    "print(f\"gradient for x0 : {grad['x0']}\")\n",
    "print(f\"gradient for x1 : {grad['x1']}\")"
   ]
  },
  {
   "cell_type": "code",
   "execution_count": 50,
   "metadata": {},
   "outputs": [
    {
     "name": "stdout",
     "output_type": "stream",
     "text": [
      "[500. 108.]\n",
      "not work\n",
      "A non-persistent GradientTape can only be used to compute one set of gradients (or jacobians)\n",
      "[500. 108.]\n",
      "[50. 18.]\n"
     ]
    }
   ],
   "source": [
    "## persistent resource of gradient\n",
    "\n",
    "x = tf.constant([5., 3.0])\n",
    "with tf.GradientTape() as tape:\n",
    "    tape.watch(x)\n",
    "    y = x * x\n",
    "    z = y * y\n",
    "print(tape.gradient(z, x).numpy())\n",
    "try:\n",
    "    print(tape.gradient(z, y).numpy())\n",
    "except Exception as e:\n",
    "    print('not work')\n",
    "    print(e)\n",
    "\n",
    "x = tf.constant([5., 3.0])\n",
    "with tf.GradientTape(persistent=True) as tape:\n",
    "    tape.watch(x)\n",
    "    y = x * x\n",
    "    z = y * y\n",
    "print(tape.gradient(z, x).numpy())\n",
    "print(tape.gradient(z, y).numpy())\n"
   ]
  },
  {
   "cell_type": "markdown",
   "metadata": {},
   "source": [
    "## Graph and tf.function"
   ]
  },
  {
   "cell_type": "code",
   "execution_count": null,
   "metadata": {},
   "outputs": [],
   "source": []
  },
  {
   "cell_type": "code",
   "execution_count": null,
   "metadata": {},
   "outputs": [],
   "source": []
  },
  {
   "cell_type": "code",
   "execution_count": null,
   "metadata": {},
   "outputs": [],
   "source": []
  },
  {
   "cell_type": "code",
   "execution_count": null,
   "metadata": {},
   "outputs": [],
   "source": []
  },
  {
   "cell_type": "code",
   "execution_count": null,
   "metadata": {},
   "outputs": [],
   "source": []
  },
  {
   "cell_type": "code",
   "execution_count": null,
   "metadata": {},
   "outputs": [],
   "source": []
  },
  {
   "cell_type": "code",
   "execution_count": null,
   "metadata": {},
   "outputs": [],
   "source": []
  }
 ],
 "metadata": {
  "kernelspec": {
   "display_name": "Python 3.7.2 64-bit",
   "language": "python",
   "name": "python37264bit8536ebc3d6674130934c644ef5a352d2"
  },
  "language_info": {
   "codemirror_mode": {
    "name": "ipython",
    "version": 3
   },
   "file_extension": ".py",
   "mimetype": "text/x-python",
   "name": "python",
   "nbconvert_exporter": "python",
   "pygments_lexer": "ipython3",
   "version": "3.7.2"
  }
 },
 "nbformat": 4,
 "nbformat_minor": 2
}

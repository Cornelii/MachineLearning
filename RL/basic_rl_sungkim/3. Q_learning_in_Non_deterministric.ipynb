{
 "cells": [
  {
   "cell_type": "code",
   "execution_count": 1,
   "metadata": {},
   "outputs": [],
   "source": [
    "import gym\n",
    "import numpy as np\n",
    "import matplotlib.pyplot as plt\n",
    "import random"
   ]
  },
  {
   "cell_type": "code",
   "execution_count": 2,
   "metadata": {},
   "outputs": [],
   "source": [
    "from gym.envs.registration import register\n",
    "\n",
    "register(\n",
    "    id='FrozenLake-v3',\n",
    "    entry_point='gym.envs.toy_text:FrozenLakeEnv',\n",
    "    kwargs={\n",
    "        'map_name':'4x4',\n",
    "        'is_slippery':True\n",
    "    }\n",
    ")"
   ]
  },
  {
   "cell_type": "code",
   "execution_count": 27,
   "metadata": {},
   "outputs": [],
   "source": [
    "env = gym.make('FrozenLake-v3')\n",
    "Q = np.zeros([env.observation_space.n, env.action_space.n])\n",
    "\n",
    "dis = 0.99\n",
    "num_episodes = 2000\n",
    "alpha = 0.2\n",
    "rList = []"
   ]
  },
  {
   "cell_type": "code",
   "execution_count": 28,
   "metadata": {},
   "outputs": [],
   "source": [
    "for i in range(num_episodes):\n",
    "    \n",
    "    state = env.reset()\n",
    "    rAll = 0\n",
    "    done = False\n",
    "    e = 1./(1+i//100)\n",
    "    \n",
    "    while not done:\n",
    "        if np.random.rand(1) < e:\n",
    "            action = env.action_space.sample()\n",
    "        else:\n",
    "            action = np.argmax(Q[state, :])\n",
    "            \n",
    "        new_state, reward, done, _ = env.step(action)\n",
    "        \n",
    "        Q[state, action] = Q[state, action] + alpha*(reward + dis*np.max(Q[new_state, :]) - Q[state, action])\n",
    "        \n",
    "        state = new_state\n",
    "        rAll += reward\n",
    "        \n",
    "    rList.append(rAll)"
   ]
  },
  {
   "cell_type": "code",
   "execution_count": 29,
   "metadata": {},
   "outputs": [
    {
     "name": "stdout",
     "output_type": "stream",
     "text": [
      "Success rate: 0.3115\n",
      "[[0.4683055  0.46676922 0.46804826 0.46698121]\n",
      " [0.30911934 0.27081599 0.12579732 0.41019883]\n",
      " [0.33866415 0.18077329 0.22327248 0.20899858]\n",
      " [0.12819254 0.         0.0692236  0.08627987]\n",
      " [0.49314501 0.43108063 0.27825683 0.44971255]\n",
      " [0.         0.         0.         0.        ]\n",
      " [0.11046937 0.01721649 0.2435999  0.03317079]\n",
      " [0.         0.         0.         0.        ]\n",
      " [0.50531922 0.36650851 0.43768042 0.53992378]\n",
      " [0.51508997 0.61325142 0.42139705 0.36210979]\n",
      " [0.65573045 0.35835525 0.14916304 0.28869714]\n",
      " [0.         0.         0.         0.        ]\n",
      " [0.         0.         0.         0.        ]\n",
      " [0.56691677 0.4874697  0.70378582 0.54733388]\n",
      " [0.67722566 0.8646811  0.6932283  0.70640103]\n",
      " [0.         0.         0.         0.        ]]\n"
     ]
    },
    {
     "data": {
      "text/plain": [
       "<BarContainer object of 2000 artists>"
      ]
     },
     "execution_count": 29,
     "metadata": {},
     "output_type": "execute_result"
    },
    {
     "data": {
      "image/png": "[encoded data removed]",
      "text/plain": [
       "<Figure size 432x288 with 1 Axes>"
      ]
     },
     "metadata": {
      "needs_background": "light"
     },
     "output_type": "display_data"
    }
   ],
   "source": [
    "print(f\"Success rate: {sum(rList)/num_episodes}\")\n",
    "print(Q)\n",
    "plt.bar(list(range(1, num_episodes+1)), rList)"
   ]
  },
  {
   "cell_type": "code",
   "execution_count": null,
   "metadata": {},
   "outputs": [],
   "source": []
  }
 ],
 "metadata": {
  "kernelspec": {
   "display_name": "Python 3",
   "language": "python",
   "name": "python3"
  },
  "language_info": {
   "codemirror_mode": {
    "name": "ipython",
    "version": 3
   },
   "file_extension": ".py",
   "mimetype": "text/x-python",
   "name": "python",
   "nbconvert_exporter": "python",
   "pygments_lexer": "ipython3",
   "version": "3.6.7"
  }
 },
 "nbformat": 4,
 "nbformat_minor": 2
}

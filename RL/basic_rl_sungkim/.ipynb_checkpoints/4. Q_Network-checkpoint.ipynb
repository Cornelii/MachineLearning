{
 "cells": [
  {
   "cell_type": "code",
   "execution_count": 1,
   "metadata": {},
   "outputs": [],
   "source": [
    "import gym\n",
    "import numpy as np\n",
    "import matplotlib.pyplot as plt\n",
    "import random\n",
    "import tensorflow as tf\n",
    "\n",
    "from gym.envs.registration import register\n",
    "\n",
    "register(\n",
    "    id='FrozenLake-v3',\n",
    "    entry_point = 'gym.envs.toy_text:FrozenLakeEnv',\n",
    "    kwargs = {\n",
    "        'map_name':'4x4',\n",
    "        'is_slippery': False\n",
    "    }\n",
    ")"
   ]
  },
  {
   "cell_type": "code",
   "execution_count": 2,
   "metadata": {},
   "outputs": [],
   "source": [
    "env = gym.make('FrozenLake-v3')\n",
    "\n",
    "dis = 0.99\n",
    "num_episodes = 3000\n",
    "rList = []\n",
    "learning_rate = 1"
   ]
  },
  {
   "cell_type": "markdown",
   "metadata": {},
   "source": [
    "## Q-Network"
   ]
  },
  {
   "cell_type": "code",
   "execution_count": 3,
   "metadata": {},
   "outputs": [],
   "source": [
    "def one_hot(x):\n",
    "    one_hot = np.identity(16)[x]\n",
    "    return np.reshape(one_hot, [-1, 16])"
   ]
  },
  {
   "cell_type": "code",
   "execution_count": 4,
   "metadata": {},
   "outputs": [],
   "source": [
    "input_size = env.observation_space.n\n",
    "output_size = env.action_space.n\n",
    "\n",
    "X = tf.placeholder(tf.float32, shape = [None,input_size])\n",
    "W = {\n",
    "    'w1': tf.Variable(tf.random_uniform([input_size, 32], 0, 0.01)),\n",
    "    'w2': tf.Variable(tf.random_uniform([32, output_size], 0, 0.01))\n",
    "}\n",
    "b = {\n",
    "    'b1': tf.Variable(tf.random_uniform([32], 0, 0.01)),\n",
    "    'b2': tf.Variable(tf.random_uniform([output_size], 0, 0.01))\n",
    "}\n",
    "\n",
    "layer1 = tf.matmul(X, W['w1']) + b['b1']\n",
    "layer1 = tf.nn.sigmoid(layer1)\n",
    "\n",
    "layer2 = tf.matmul(layer1, W['w2']) + b['b2']\n",
    "Qpred = layer2\n",
    "# w = tf.Variable(tf.random_uniform([input_size, output_size], 0, 0.01))\n",
    "# b = tf.Variable(tf.random_uniform([output_size], 0, 0.01))\n",
    "\n",
    "# Qpred = tf.nn.sigmoid(tf.matmul(X,w) + b)\n",
    "\n",
    "\n",
    "Y = tf.placeholder(tf.float32, shape=[None,output_size])"
   ]
  },
  {
   "cell_type": "code",
   "execution_count": 5,
   "metadata": {},
   "outputs": [],
   "source": [
    "loss = tf.reduce_sum(tf.square(Y - Qpred))\n",
    "train = tf.train.AdamOptimizer(learning_rate=0.01, epsilon=0.1).minimize(loss)"
   ]
  },
  {
   "cell_type": "code",
   "execution_count": 6,
   "metadata": {},
   "outputs": [],
   "source": [
    "init = tf.global_variables_initializer()"
   ]
  },
  {
   "cell_type": "code",
   "execution_count": 7,
   "metadata": {},
   "outputs": [
    {
     "name": "stdout",
     "output_type": "stream",
     "text": [
      "# of Episode:  100\n",
      "# of Episode:  200\n",
      "# of Episode:  300\n",
      "# of Episode:  400\n",
      "# of Episode:  500\n",
      "# of Episode:  600\n",
      "# of Episode:  700\n",
      "# of Episode:  800\n",
      "# of Episode:  900\n",
      "# of Episode:  1000\n",
      "# of Episode:  1100\n",
      "# of Episode:  1200\n",
      "# of Episode:  1300\n",
      "# of Episode:  1400\n",
      "# of Episode:  1500\n",
      "# of Episode:  1600\n",
      "# of Episode:  1700\n",
      "# of Episode:  1800\n",
      "# of Episode:  1900\n",
      "# of Episode:  2000\n",
      "# of Episode:  2100\n",
      "# of Episode:  2200\n",
      "# of Episode:  2300\n",
      "# of Episode:  2400\n",
      "# of Episode:  2500\n",
      "# of Episode:  2600\n",
      "# of Episode:  2700\n",
      "# of Episode:  2800\n",
      "# of Episode:  2900\n",
      "# of Episode:  3000\n"
     ]
    }
   ],
   "source": [
    "with tf.Session() as sess:\n",
    "    sess.run(init)\n",
    "    for i in range(num_episodes):\n",
    "\n",
    "        state = env.reset()\n",
    "        rAll = 0\n",
    "        done = False\n",
    "        e = 1. / (1 + i // 100)\n",
    "\n",
    "        while not done:\n",
    "            feed_dict={X: one_hot(state)}\n",
    "            Q = sess.run(Qpred, feed_dict=feed_dict)\n",
    "            \n",
    "            if np.random.rand(1) < e:\n",
    "                action = env.action_space.sample()\n",
    "            else:\n",
    "                action = np.argmax(Q)\n",
    "            \n",
    "            new_state, reward, done, _ = env.step(action)\n",
    "            \n",
    "            if done:\n",
    "                Q[0, action] = reward\n",
    "            else:\n",
    "                Qs = sess.run(Qpred, feed_dict={X:one_hot(new_state)})\n",
    "                Q[0, action] = reward + dis * np.max(Qs)\n",
    "            # update Q-network \n",
    "            feed_dict={\n",
    "                X: one_hot(state),\n",
    "                Y: Q\n",
    "            }\n",
    "            \n",
    "            sess.run(train, feed_dict=feed_dict)\n",
    "            \n",
    "            \n",
    "            state = new_state\n",
    "            rAll += reward\n",
    "        \n",
    "        if (i+1)%100: pass\n",
    "        else: print(f\"# of Episode:  {i+1}\")\n",
    "        \n",
    "        rList.append(rAll)"
   ]
  },
  {
   "cell_type": "code",
   "execution_count": 8,
   "metadata": {},
   "outputs": [
    {
     "name": "stdout",
     "output_type": "stream",
     "text": [
      "Success rate: 0.6693333333333333\n"
     ]
    },
    {
     "data": {
      "text/plain": [
       "<BarContainer object of 3000 artists>"
      ]
     },
     "execution_count": 8,
     "metadata": {},
     "output_type": "execute_result"
    },
    {
     "data": {
      "image/png": "[encoded data removed]",
      "text/plain": [
       "<Figure size 432x288 with 1 Axes>"
      ]
     },
     "metadata": {
      "needs_background": "light"
     },
     "output_type": "display_data"
    }
   ],
   "source": [
    "print(f\"Success rate: {sum(rList)/num_episodes}\")\n",
    "\n",
    "plt.bar(list(range(1, len(rList)+1)), rList)"
   ]
  },
  {
   "cell_type": "code",
   "execution_count": 9,
   "metadata": {},
   "outputs": [
    {
     "data": {
      "text/plain": [
       "3000"
      ]
     },
     "execution_count": 9,
     "metadata": {},
     "output_type": "execute_result"
    }
   ],
   "source": [
    "len(rList)"
   ]
  },
  {
   "cell_type": "code",
   "execution_count": null,
   "metadata": {},
   "outputs": [],
   "source": []
  },
  {
   "cell_type": "code",
   "execution_count": null,
   "metadata": {},
   "outputs": [],
   "source": []
  },
  {
   "cell_type": "code",
   "execution_count": null,
   "metadata": {},
   "outputs": [],
   "source": []
  },
  {
   "cell_type": "code",
   "execution_count": null,
   "metadata": {},
   "outputs": [],
   "source": []
  }
 ],
 "metadata": {
  "kernelspec": {
   "display_name": "Python 3",
   "language": "python",
   "name": "python3"
  },
  "language_info": {
   "codemirror_mode": {
    "name": "ipython",
    "version": 3
   },
   "file_extension": ".py",
   "mimetype": "text/x-python",
   "name": "python",
   "nbconvert_exporter": "python",
   "pygments_lexer": "ipython3",
   "version": "3.6.7"
  }
 },
 "nbformat": 4,
 "nbformat_minor": 2
}
